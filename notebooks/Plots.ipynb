{
 "cells": [
  {
   "cell_type": "code",
   "execution_count": 1,
   "metadata": {},
   "outputs": [],
   "source": [
    "%matplotlib inline"
   ]
  },
  {
   "cell_type": "code",
   "execution_count": 2,
   "metadata": {},
   "outputs": [],
   "source": [
    "import pandas as pd\n",
    "import matplotlib.pyplot as plt\n",
    "import seaborn as sns\n",
    "from scipy.stats import pearsonr\n",
    "import glob\n",
    "import multiprocessing as MP\n",
    "import numpy as np\n",
    "import sklearn\n",
    "\n",
    "from sklearn.preprocessing import OneHotEncoder\n",
    "from sklearn.preprocessing import PolynomialFeatures\n",
    "from sklearn.linear_model import LinearRegression\n",
    "from scipy.stats import mannwhitneyu"
   ]
  },
  {
   "cell_type": "code",
   "execution_count": 3,
   "metadata": {},
   "outputs": [],
   "source": [
    "sns.set_style('ticks')\n",
    "sns.set_palette('husl')"
   ]
  },
  {
   "cell_type": "code",
   "execution_count": null,
   "metadata": {},
   "outputs": [],
   "source": []
  },
  {
   "cell_type": "markdown",
   "metadata": {},
   "source": [
    "## Loading data"
   ]
  },
  {
   "cell_type": "code",
   "execution_count": 4,
   "metadata": {},
   "outputs": [
    {
     "name": "stdout",
     "output_type": "stream",
     "text": [
      "There are 208 files.\n",
      "CPU times: user 1.88 ms, sys: 0 ns, total: 1.88 ms\n",
      "Wall time: 3.2 ms\n"
     ]
    }
   ],
   "source": [
    "%%time\n",
    "data_files = (\n",
    "    glob.glob('../data/spaced-algorithms/*.csv')\n",
    ")\n",
    "\n",
    "print('There are {} files.'.format(len(data_files)))"
   ]
  },
  {
   "cell_type": "code",
   "execution_count": null,
   "metadata": {},
   "outputs": [],
   "source": []
  },
  {
   "cell_type": "code",
   "execution_count": 5,
   "metadata": {},
   "outputs": [
    {
     "name": "stdout",
     "output_type": "stream",
     "text": [
      "CPU times: user 9.18 s, sys: 6.88 s, total: 16.1 s\n",
      "Wall time: 44.2 s\n"
     ]
    }
   ],
   "source": [
    "%%time\n",
    "\n",
    "# Specifying the format is ~ 10x faster.\n",
    "swift_datetime_format = '%a %b %d %Y %H:%M:%S GMT+0000 (%Z)'\n",
    "\n",
    "def _worker_read_csv(filename):\n",
    "    df_tmp = pd.read_csv(filename)\n",
    "    df_tmp.datecreated = pd.to_datetime(df_tmp.datecreated, \n",
    "                                        format=swift_datetime_format)\n",
    "    df_tmp.dateinstallation = pd.to_datetime(df_tmp.dateinstallation, \n",
    "                                             format=swift_datetime_format)\n",
    "    return df_tmp\n",
    "\n",
    "with MP.Pool() as pool:\n",
    "    df = pd.concat(pool.map(_worker_read_csv, data_files))\n",
    "\n",
    "# df = pd.concat([pd.read_csv(f) for f in data_files])\n",
    "# df.datecreated = pd.to_datetime(df.datecreated)\n",
    "# df.dateinstallation = pd.to_datetime(df.dateinstallation)"
   ]
  },
  {
   "cell_type": "code",
   "execution_count": null,
   "metadata": {},
   "outputs": [],
   "source": []
  },
  {
   "cell_type": "code",
   "execution_count": null,
   "metadata": {},
   "outputs": [],
   "source": []
  },
  {
   "cell_type": "code",
   "execution_count": 6,
   "metadata": {},
   "outputs": [
    {
     "name": "stdout",
     "output_type": "stream",
     "text": [
      "CPU times: user 21.9 s, sys: 3.57 s, total: 25.5 s\n",
      "Wall time: 25.5 s\n"
     ]
    }
   ],
   "source": [
    "%%time\n",
    "multi_algo_users = df.groupby('user').algorithm.nunique()\n",
    "ignore_users = set(multi_algo_users[multi_algo_users > 1].reset_index().user.tolist())"
   ]
  },
  {
   "cell_type": "code",
   "execution_count": null,
   "metadata": {},
   "outputs": [],
   "source": []
  },
  {
   "cell_type": "code",
   "execution_count": 7,
   "metadata": {},
   "outputs": [
    {
     "name": "stdout",
     "output_type": "stream",
     "text": [
      "CPU times: user 27.8 s, sys: 9.6 s, total: 37.4 s\n",
      "Wall time: 37.4 s\n"
     ]
    }
   ],
   "source": [
    "%%time\n",
    "df2 = (\n",
    "    df[~df.user.isin(ignore_users)]\n",
    "    .rename(columns={\n",
    "        'correct': 'p_recall', \n",
    "        'datecreated': 'timestamp',\n",
    "        'user': 'user_id',\n",
    "        'question': 'lexeme_id',\n",
    "        'count': 'history_seen',\n",
    "        'language': 'learning_language'\n",
    "    })\n",
    ")\n",
    "\n",
    "df2['ui_language'] = 'de'\n",
    "df2['lexeme_string'] = df2['lexeme_id']\n",
    "df2['session_seen'] = 1\n",
    "df2['session_correct'] = df2['p_recall']\n",
    "df2['timestamp'] = df2['timestamp'].values.astype(np.int64) // 10 ** 9\n",
    "df2.sort_values(by=['user_id', 'lexeme_id', 'timestamp'], inplace=True)\n",
    "\n",
    "df2['delta'] = df2['timestamp'].diff()\n",
    "df2.loc[(df2.lexeme_id != df2.lexeme_id.shift()) | (df2.user_id != df2.user_id.shift()), 'delta'] = None"
   ]
  },
  {
   "cell_type": "code",
   "execution_count": null,
   "metadata": {},
   "outputs": [],
   "source": []
  },
  {
   "cell_type": "markdown",
   "metadata": {},
   "source": [
    "## Binned empirical forgetting rates"
   ]
  },
  {
   "cell_type": "code",
   "execution_count": null,
   "metadata": {},
   "outputs": [],
   "source": []
  },
  {
   "cell_type": "code",
   "execution_count": 8,
   "metadata": {},
   "outputs": [
    {
     "name": "stdout",
     "output_type": "stream",
     "text": [
      "CPU times: user 18.7 s, sys: 1.64 s, total: 20.4 s\n",
      "Wall time: 20.4 s\n"
     ]
    }
   ],
   "source": [
    "%%time\n",
    "duration_grp = df2.groupby(['lexeme_id', 'user_id'])\n",
    "duration_df = (duration_grp.timestamp.last() - duration_grp.timestamp.first()).to_frame('timestamp')\n",
    "attempts_df = duration_grp.size().to_frame('attempts')\n",
    "attempt_duration = duration_df.join(attempts_df)"
   ]
  },
  {
   "cell_type": "code",
   "execution_count": 9,
   "metadata": {},
   "outputs": [],
   "source": [
    "long_term_users = set(duration_df[duration_df.timestamp > 3 * (1 - 0.25) * 86400].reset_index().user_id.unique().tolist())"
   ]
  },
  {
   "cell_type": "code",
   "execution_count": null,
   "metadata": {},
   "outputs": [],
   "source": []
  },
  {
   "cell_type": "code",
   "execution_count": 10,
   "metadata": {},
   "outputs": [],
   "source": [
    "def limit_duration(days, alpha, attempts_exact=None):\n",
    "    secs = days * 24 * 60 * 60\n",
    "    lim = attempt_duration[(secs * (1 - alpha) < attempt_duration.timestamp) & (attempt_duration.timestamp < secs * (1 + alpha))]\n",
    "    if attempts_exact is not None:\n",
    "        lim = lim[lim.attempts == attempts_exact]\n",
    "    \n",
    "    lim = lim.reset_index()\n",
    "    valid_tuples = set((lim.lexeme_id + '/' + lim.user_id).values)\n",
    "    df_dur = df2[(df2.lexeme_id + '/' + df2.user_id).isin(valid_tuples)]\n",
    "    return df_dur"
   ]
  },
  {
   "cell_type": "code",
   "execution_count": null,
   "metadata": {},
   "outputs": [],
   "source": []
  },
  {
   "cell_type": "code",
   "execution_count": 11,
   "metadata": {},
   "outputs": [
    {
     "name": "stdout",
     "output_type": "stream",
     "text": [
      "CPU times: user 33.8 s, sys: 7.88 s, total: 41.7 s\n",
      "Wall time: 41.7 s\n"
     ]
    }
   ],
   "source": [
    "%%time\n",
    "P_MIN, P_MAX = 0.01, 0.99\n",
    "\n",
    "lexeme_init_grp = df2.sort_values('timestamp').groupby(['lexeme_id', 'user_id'])\n",
    "lexeme_initial = lexeme_init_grp.nth(2)\n",
    "lexeme_first = lexeme_init_grp.nth(1)\n",
    "lexeme_first_delta = (lexeme_initial.timestamp - lexeme_first.timestamp).dropna().to_frame('t_diff').reset_index()\n",
    "lexeme_initial = lexeme_initial.reset_index()\n",
    "\n",
    "lexeme_user_initial = lexeme_initial.copy()\n",
    "lexeme_user_initial['user_lexeme'] = lexeme_user_initial['user_id'] + '/' + lexeme_user_initial['lexeme_id']\n",
    "\n",
    "lexeme_user_initial['emp_n0'] = (\n",
    "    - np.log(np.maximum(P_MIN, np.minimum(P_MAX, lexeme_user_initial.p_recall.values.squeeze()))) /\n",
    "    (lexeme_first_delta.t_diff.values / (24 * 60 * 60))\n",
    ")\n",
    "lexeme_user_initial = lexeme_user_initial.set_index('user_lexeme')\n",
    "\n",
    "lexeme_emp_n0 = lexeme_user_initial.groupby('lexeme_id').emp_n0.mean()"
   ]
  },
  {
   "cell_type": "code",
   "execution_count": null,
   "metadata": {},
   "outputs": [],
   "source": []
  },
  {
   "cell_type": "markdown",
   "metadata": {},
   "source": [
    "Example of how to bucket and calculate metrics."
   ]
  },
  {
   "cell_type": "code",
   "execution_count": 12,
   "metadata": {},
   "outputs": [],
   "source": [
    "days, N = 3, 5\n",
    "grp = limit_duration(days=days, alpha=0.1, attempts_exact=None).sort_values('timestamp').groupby(['lexeme_id', 'user_id'])\n",
    "nth = grp.nth(N)\n",
    "n_1th = grp.nth(N - 1)\n",
    "delta = (nth.timestamp - n_1th.timestamp).dropna().to_frame('t_diff').reset_index()\n",
    "nth = nth.reset_index()\n",
    "nth['emp_n'] = -np.log(np.maximum(P_MIN, np.minimum(P_MAX, nth['p_recall']))) / (delta.t_diff.values / (24 * 60 * 60))\n"
   ]
  },
  {
   "cell_type": "code",
   "execution_count": null,
   "metadata": {},
   "outputs": [],
   "source": []
  },
  {
   "cell_type": "code",
   "execution_count": 13,
   "metadata": {},
   "outputs": [],
   "source": [
    "NORM_BY_INIT_N0 = True\n",
    "\n",
    "pm_frac = 0.25\n",
    "\n",
    "import warnings\n",
    "\n",
    "def _empirical_n_worker(params):\n",
    "    days, N = params\n",
    "    grp = limit_duration(days=days, alpha=pm_frac, attempts_exact=None).sort_values('timestamp').groupby(['lexeme_id', 'user_id'])\n",
    "    nth = grp.nth(N)\n",
    "    n_1th = grp.nth(N - 1)\n",
    "    delta = (nth.timestamp - n_1th.timestamp).dropna().to_frame('t_diff').reset_index()\n",
    "    nth = nth.reset_index()\n",
    "    \n",
    "    lexeme_emp_m = nth.groupby('lexeme_id').p_recall.mean()\n",
    "    \n",
    "    with warnings.catch_warnings():\n",
    "        warnings.simplefilter('ignore')\n",
    "        nth['emp_n'] = -np.log(np.maximum(P_MIN, np.minimum(P_MAX, nth['p_recall']))) / (delta.t_diff.values / (24 * 60 * 60))\n",
    "        if NORM_BY_INIT_N0:\n",
    "            nth['emp_n'] /= lexeme_emp_n0.loc[nth.lexeme_id].values\n",
    "        \n",
    "    ssig = {}\n",
    "    try:\n",
    "        for alg1, alg2 in [('smart', 'random'), ('spaced', 'random'), ('spaced', 'smart')]:\n",
    "            ssig[(alg1, alg2)] = mannwhitneyu(nth.emp_n[nth.algorithm == alg1], nth.emp_n[nth.algorithm == alg2])\n",
    "            \n",
    "        desc = (\n",
    "            nth # [\n",
    "                # nth.lexeme_id.isin(lexeme_emp_m.index[lexeme_emp_m > 0]) &\n",
    "                # nth.lexeme_id.isin(lexeme_initial_m.index[lexeme_initial_m > 0])\n",
    "                # ]\n",
    "            .groupby('algorithm')\n",
    "            .emp_n\n",
    "            .describe()\n",
    "        )\n",
    "    except Exception:\n",
    "        desc = None\n",
    "    \n",
    "    valid_lexeme_num = nth.lexeme_id.nunique()\n",
    "    return days, N, valid_lexeme_num, desc, ssig"
   ]
  },
  {
   "cell_type": "code",
   "execution_count": null,
   "metadata": {},
   "outputs": [],
   "source": []
  },
  {
   "cell_type": "code",
   "execution_count": 14,
   "metadata": {},
   "outputs": [
    {
     "name": "stdout",
     "output_type": "stream",
     "text": [
      "CPU times: user 96.2 ms, sys: 7.35 s, total: 7.44 s\n",
      "Wall time: 19.4 s\n"
     ]
    }
   ],
   "source": [
    "%%time\n",
    "lexeme_data_2 = []\n",
    "# P_VALUE = 0.05\n",
    "P_VALUE = 0.05 / 36  # The Bonferroni procedure, m = number of tests = 36\n",
    "# P_VALUE = 1 - (1 - 0.05) ** (1 / 36) # The Šidák procedure\n",
    "\n",
    "with MP.Pool() as pool:\n",
    "    for days, N, valid_lexeme_num, desc, ssig in pool.map(\n",
    "        _empirical_n_worker,\n",
    "        [(days, N) for days in [3, 5, 9] for N in range(3, 9)]\n",
    "    ):\n",
    "        if desc is not None:\n",
    "            lexeme_data_2.append({\n",
    "                'N': N,\n",
    "                'days': days,\n",
    "                'valid_lexeme_num': valid_lexeme_num,\n",
    "                'smart_random_sig': ssig[('smart', 'random')].pvalue < P_VALUE,\n",
    "                'spaced_smart_sig': ssig[('spaced', 'smart')].pvalue < P_VALUE,\n",
    "                'spaced_random_sig': ssig[('spaced', 'random')].pvalue < P_VALUE,\n",
    "            })\n",
    "            \n",
    "            for alg in ['smart', 'random', 'spaced']:\n",
    "                for field in ['count', '25%', '50%', '75%', 'mean']:\n",
    "                    lexeme_data_2[-1][f'{alg}_{field}'] = desc[field][alg]"
   ]
  },
  {
   "cell_type": "code",
   "execution_count": null,
   "metadata": {},
   "outputs": [],
   "source": []
  },
  {
   "cell_type": "code",
   "execution_count": 15,
   "metadata": {},
   "outputs": [],
   "source": [
    "binned_df_2 = pd.DataFrame(lexeme_data_2)"
   ]
  },
  {
   "cell_type": "code",
   "execution_count": null,
   "metadata": {},
   "outputs": [],
   "source": []
  },
  {
   "cell_type": "code",
   "execution_count": 16,
   "metadata": {},
   "outputs": [
    {
     "name": "stdout",
     "output_type": "stream",
     "text": [
      "spaced median empirical forgetting rate is better in 83.3% of the cases against smart.\n"
     ]
    }
   ],
   "source": [
    "print(f\"spaced median empirical forgetting rate is better in {round(binned_df_2[binned_df_2['spaced_50%'] < binned_df_2['smart_50%']].shape[0] / binned_df_2.shape[0] * 100., 1)}% of the cases against smart.\")"
   ]
  },
  {
   "cell_type": "code",
   "execution_count": 17,
   "metadata": {},
   "outputs": [
    {
     "name": "stdout",
     "output_type": "stream",
     "text": [
      "spaced median empirical forgetting rate is better in 72.2% of the cases against smart and the decrease is statistically significant.\n"
     ]
    }
   ],
   "source": [
    "print(f\"spaced median empirical forgetting rate is better in {round(binned_df_2[(binned_df_2['spaced_50%'] < binned_df_2['smart_50%']) & (binned_df_2['spaced_smart_sig'])].shape[0] / binned_df_2.shape[0] * 100., 1)}% of the cases against smart and the decrease is statistically significant.\")"
   ]
  },
  {
   "cell_type": "code",
   "execution_count": null,
   "metadata": {},
   "outputs": [],
   "source": []
  },
  {
   "cell_type": "code",
   "execution_count": 18,
   "metadata": {},
   "outputs": [
    {
     "name": "stdout",
     "output_type": "stream",
     "text": [
      "spaced median empirical forgetting rate is better in 83.3% of the cases against random.\n"
     ]
    }
   ],
   "source": [
    "print(f\"spaced median empirical forgetting rate is better in {round(binned_df_2[binned_df_2['spaced_50%'] < binned_df_2['random_50%']].shape[0] / binned_df_2.shape[0] * 100., 1)}% of the cases against random.\")"
   ]
  },
  {
   "cell_type": "code",
   "execution_count": 19,
   "metadata": {},
   "outputs": [
    {
     "name": "stdout",
     "output_type": "stream",
     "text": [
      "spaced median empirical forgetting rate is better in 61.1% of the cases against random and the decrease is statistically significant.\n"
     ]
    }
   ],
   "source": [
    "print(f\"spaced median empirical forgetting rate is better in {round(binned_df_2[(binned_df_2['spaced_50%'] < binned_df_2['random_50%']) & (binned_df_2['spaced_random_sig'])].shape[0] / binned_df_2.shape[0] * 100., 1)}% of the cases against random and the decrease is statistically significant.\")"
   ]
  },
  {
   "cell_type": "code",
   "execution_count": null,
   "metadata": {},
   "outputs": [],
   "source": []
  },
  {
   "cell_type": "code",
   "execution_count": 20,
   "metadata": {},
   "outputs": [
    {
     "data": {
      "text/plain": [
       "0.6666666666666666"
      ]
     },
     "execution_count": 20,
     "metadata": {},
     "output_type": "execute_result"
    }
   ],
   "source": [
    "(binned_df_2[(binned_df_2['spaced_50%'] < binned_df_2['random_50%']) & (binned_df_2['spaced_random_sig'])].shape[0] + binned_df_2[(binned_df_2['spaced_50%'] < binned_df_2['smart_50%']) & (binned_df_2['spaced_smart_sig'])].shape[0]) / (2 * binned_df_2.shape[0])"
   ]
  },
  {
   "cell_type": "code",
   "execution_count": null,
   "metadata": {},
   "outputs": [],
   "source": []
  },
  {
   "cell_type": "markdown",
   "metadata": {},
   "source": [
    "Comparing median decrease in normalized empirical forgetting rate and median increase in the half-life of 'spaced' against 'random'."
   ]
  },
  {
   "cell_type": "code",
   "execution_count": 21,
   "metadata": {},
   "outputs": [
    {
     "data": {
      "text/plain": [
       "0.4801462337059099"
      ]
     },
     "execution_count": 21,
     "metadata": {},
     "output_type": "execute_result"
    }
   ],
   "source": [
    "1 - (binned_df_2['spaced_50%'] / binned_df_2['random_50%']).median()"
   ]
  },
  {
   "cell_type": "code",
   "execution_count": 22,
   "metadata": {},
   "outputs": [
    {
     "data": {
      "text/plain": [
       "1.923617880329606"
      ]
     },
     "execution_count": 22,
     "metadata": {},
     "output_type": "execute_result"
    }
   ],
   "source": [
    "1. / (binned_df_2['spaced_50%'] / binned_df_2['random_50%']).median()"
   ]
  },
  {
   "cell_type": "code",
   "execution_count": 23,
   "metadata": {},
   "outputs": [
    {
     "data": {
      "text/plain": [
       "1.9236334147366407"
      ]
     },
     "execution_count": 23,
     "metadata": {},
     "output_type": "execute_result"
    }
   ],
   "source": [
    "(1. / (binned_df_2['spaced_50%'] / binned_df_2['random_50%'])).median()"
   ]
  },
  {
   "cell_type": "code",
   "execution_count": null,
   "metadata": {},
   "outputs": [],
   "source": []
  },
  {
   "cell_type": "code",
   "execution_count": null,
   "metadata": {},
   "outputs": [],
   "source": []
  },
  {
   "cell_type": "markdown",
   "metadata": {},
   "source": [
    "Comparing median decrease in normalized empirical forgetting rate and median increase in the half-life of 'spaced' against 'smart'."
   ]
  },
  {
   "cell_type": "code",
   "execution_count": 24,
   "metadata": {},
   "outputs": [
    {
     "data": {
      "text/plain": [
       "0.4094175923621066"
      ]
     },
     "execution_count": 24,
     "metadata": {},
     "output_type": "execute_result"
    }
   ],
   "source": [
    "1 - (binned_df_2['spaced_50%'] / binned_df_2['smart_50%']).median()"
   ]
  },
  {
   "cell_type": "code",
   "execution_count": 25,
   "metadata": {},
   "outputs": [
    {
     "data": {
      "text/plain": [
       "1.6932437997935332"
      ]
     },
     "execution_count": 25,
     "metadata": {},
     "output_type": "execute_result"
    }
   ],
   "source": [
    "1. / (binned_df_2['spaced_50%'] / binned_df_2['smart_50%']).median()"
   ]
  },
  {
   "cell_type": "code",
   "execution_count": 26,
   "metadata": {},
   "outputs": [
    {
     "data": {
      "text/plain": [
       "1.697376781839326"
      ]
     },
     "execution_count": 26,
     "metadata": {},
     "output_type": "execute_result"
    }
   ],
   "source": [
    "(1. / (binned_df_2['spaced_50%'] / binned_df_2['smart_50%'])).median()"
   ]
  },
  {
   "cell_type": "code",
   "execution_count": null,
   "metadata": {},
   "outputs": [],
   "source": []
  },
  {
   "cell_type": "code",
   "execution_count": null,
   "metadata": {},
   "outputs": [],
   "source": []
  },
  {
   "cell_type": "code",
   "execution_count": 27,
   "metadata": {},
   "outputs": [],
   "source": [
    "# Create figure and axes\n",
    "\n",
    "def label_diff(algo, X, Y_1, Y_2, W, repetitions, day):\n",
    "    for i in range(repetitions):\n",
    "        is_sig = binned_df_2[(binned_df_2.days == day)]['spaced_' + algo + '_sig'].values[i]\n",
    "        y = 1.1 * max(Y_1[i], Y_2[i])\n",
    "\n",
    "        props = {\n",
    "            'connectionstyle': 'bar',\n",
    "            'arrowstyle': '-',\n",
    "            'shrinkA': 0,\n",
    "            'shrinkB': 0,\n",
    "            'linewidth': 0.6,\n",
    "            'color': 'black'\n",
    "        }\n",
    "\n",
    "        if is_sig:\n",
    "            plt.gca().annotate(\"*\", xy=(X[i] - W / 2 - 0.02, y * 1.2), zorder=10, fontsize=13)\n",
    "        plt.gca().annotate('', xy=(X[i] - W, y), xytext=(X[i] + 0.25 * W, y), color='k',\n",
    "                           arrowprops=props)\n",
    "\n",
    "ALG_LABEL = {\n",
    "    'spaced': r'\\textsc{Select}',\n",
    "    'smart': 'difficulty',\n",
    "    'random': 'random'\n",
    "}\n",
    "\n",
    "def plot_day_perf(day, with_ylabel=True, with_legend=True):\n",
    "    clrs = sns.color_palette('Set2', n_colors=3)\n",
    "    df_plot = binned_df_2[(binned_df_2.days == day)]\n",
    "    for idx, alg in enumerate(['random', 'spaced', 'smart']):\n",
    "        yerr = np.vstack([\n",
    "            df_plot[f'{alg}_50%'] - df_plot[f'{alg}_25%'],\n",
    "            df_plot[f'{alg}_75%'] - df_plot[f'{alg}_50%']\n",
    "        ])\n",
    "        plt.errorbar(\n",
    "            x=df_plot['N'] - 1 - (idx - 1) * 0.2, \n",
    "            y=df_plot[f'{alg}_50%'], \n",
    "            yerr=yerr,\n",
    "            color=clrs[idx],\n",
    "            label=ALG_LABEL[alg],\n",
    "            fmt='x',\n",
    "            elinewidth=12,\n",
    "            alpha=0.2,\n",
    "        )\n",
    "        if alg == 'random':\n",
    "            label_diff(\n",
    "                algo=alg, \n",
    "                X=(df_plot['N'] - 1 - (idx - 1) * 0.2).values,\n",
    "                Y_1=df_plot[f'{alg}_75%'].values,\n",
    "                Y_2=df_plot[f'spaced_75%'].values,\n",
    "                W = 0.2,\n",
    "                repetitions=df_plot.shape[0],\n",
    "                day=day\n",
    "            )\n",
    "        elif alg == 'spaced':\n",
    "             label_diff(\n",
    "                algo='smart', \n",
    "                X=(df_plot['N'] - 1 - (idx - 1) * 0.2).values,\n",
    "                Y_1=df_plot[f'{alg}_75%'].values,\n",
    "                Y_2=df_plot[f'smart_75%'].values,\n",
    "                W = 0.2,\n",
    "                repetitions=df_plot.shape[0],\n",
    "                day=day\n",
    "            )\n",
    "        plt.scatter(\n",
    "            df_plot['N'] - 1 - (idx - 1) * 0.2,\n",
    "            df_plot[f'{alg}_50%'],\n",
    "            marker='x',\n",
    "            color=clrs[idx],\n",
    "            label=None\n",
    "        )\n",
    "    plt.yscale('log')\n",
    "    plt.xlabel(r'\\# reviews')\n",
    "    if with_ylabel:\n",
    "        plt.ylabel('$\\hat{n}$' if not NORM_BY_INIT_N0 else r'${\\hat{n}}\\ /\\ {\\hat{n}_0}$')\n",
    "    plt.title(f'$T = {day} \\\\pm {round(pm_frac * day, 1)}$ days')\n",
    "    \n",
    "    if with_legend:\n",
    "        plt.legend(loc='lower right')\n",
    "        \n",
    "    sns.despine()\n",
    "    plt.tight_layout()"
   ]
  },
  {
   "cell_type": "code",
   "execution_count": null,
   "metadata": {},
   "outputs": [],
   "source": []
  },
  {
   "cell_type": "code",
   "execution_count": 28,
   "metadata": {},
   "outputs": [],
   "source": [
    "fig_width = 4 * 3.39 / 1.1\n",
    "fig_height = (np.sqrt(5) - 1) * 3 / 1.1\n",
    "figsize = (fig_width, fig_height)"
   ]
  },
  {
   "cell_type": "code",
   "execution_count": 54,
   "metadata": {},
   "outputs": [
    {
     "data": {
      "image/png": "[encoded data removed]",
      "text/plain": [
       "<Figure size 887.564x242.719 with 3 Axes>"
      ]
     },
     "metadata": {},
     "output_type": "display_data"
    }
   ],
   "source": [
    "plt.rcParams.update({\"text.usetex\": True})\n",
    "fig = plt.figure(figsize=figsize)\n",
    "plt.subplot(131)\n",
    "plot_day_perf(3, with_legend=False)\n",
    "plt.subplot(132)\n",
    "plot_day_perf(5, with_ylabel=False, with_legend=False)\n",
    "plt.subplot(133)\n",
    "plot_day_perf(9, with_ylabel=False, with_legend=True)\n",
    "plt.tight_layout()\n",
    "# plt.savefig('all-T.pdf', bbox_inches='tight')"
   ]
  },
  {
   "cell_type": "code",
   "execution_count": null,
   "metadata": {},
   "outputs": [],
   "source": []
  },
  {
   "cell_type": "code",
   "execution_count": null,
   "metadata": {},
   "outputs": [],
   "source": []
  },
  {
   "cell_type": "code",
   "execution_count": null,
   "metadata": {},
   "outputs": [],
   "source": []
  },
  {
   "cell_type": "markdown",
   "metadata": {},
   "source": [
    "## Multiple regression + Response Variance "
   ]
  },
  {
   "cell_type": "code",
   "execution_count": 30,
   "metadata": {},
   "outputs": [
    {
     "name": "stdout",
     "output_type": "stream",
     "text": [
      "3 processed.\n",
      "4 processed.\n",
      "5 processed.\n",
      "6 processed.\n",
      "7 processed.\n",
      "8 processed.\n",
      "CPU times: user 18.3 s, sys: 15.1 s, total: 33.4 s\n",
      "Wall time: 58.1 s\n"
     ]
    }
   ],
   "source": [
    "%%time\n",
    "from sklearn.preprocessing import OneHotEncoder\n",
    "from sklearn.preprocessing import PolynomialFeatures\n",
    "from sklearn.linear_model import LinearRegression, HuberRegressor\n",
    "\n",
    "grp = df2[df2.algorithm.isin(['smart', 'spaced', 'random'])].groupby(['lexeme_id', 'user_id'])\n",
    "one_hot_encoder = OneHotEncoder(drop=['spaced']).fit(np.array(['spaced', 'random', 'smart']).reshape(-1, 1))\n",
    "reg_factory = lambda: HuberRegressor(fit_intercept=True)\n",
    "# reg_factory = lambda: LinearRegression(fit_intercept=True)\n",
    "\n",
    "first = grp.nth(1)  # The first attempt for each lexeme for each user.\n",
    "\n",
    "coefs_ = {}\n",
    "regs = {}\n",
    "response_description = {}\n",
    "difficulty_description = {}\n",
    "ys = {}\n",
    "Xs = {}\n",
    "ssigs = {}\n",
    "\n",
    "def regression(N):\n",
    "    reg = reg_factory()\n",
    "    nth = grp.nth(N)\n",
    "    n_1th = grp.nth(N - 1)\n",
    "    test_time = (nth.timestamp - n_1th.timestamp).dropna().to_frame('t_diff').reset_index()\n",
    "    lexeme_users_with_tests = test_time.lexeme_id + '/' + test_time.user_id\n",
    "\n",
    "    review_time_all = (n_1th.timestamp - first.timestamp).dropna().to_frame('time').reset_index()\n",
    "    review_time = review_time_all[\n",
    "        (review_time_all.lexeme_id + '/' + review_time_all.user_id)\n",
    "        .isin(lexeme_users_with_tests.values)\n",
    "    ]\n",
    "\n",
    "    nth = nth.reset_index()\n",
    "    nth['emp_n0'] = lexeme_emp_n0[nth.lexeme_id].values\n",
    "    emp_n = (\n",
    "        -np.log(np.maximum(P_MIN, np.minimum(P_MAX, nth['p_recall']))) / (test_time.t_diff.values / (24 * 60 * 60))\n",
    "    )\n",
    "    \n",
    "     ssig = {}\n",
    "     for alg1, alg2 in [('smart', 'random'), ('spaced', 'random'), ('spaced', 'smart')]:\n",
    "         ssig[(alg1, alg2)] = mannwhitneyu(nth.emp_n0[nth.algorithm == alg1], nth.emp_n0[nth.algorithm == alg2])\n",
    "    \n",
    "    y = emp_n / lexeme_emp_n0[nth.lexeme_id].values\n",
    "    T = review_time.time.values / (24 * 60 * 60)\n",
    "    T_median = T - np.median(T)\n",
    "    alg = nth.algorithm.values.reshape(-1, 1)\n",
    "    alg_feat = one_hot_encoder.transform(alg)\n",
    "    X = np.hstack([T_median.reshape(-1, 1), alg_feat.todense()])\n",
    "    reg.fit(X, y)\n",
    "    \n",
    "    return (N, nth, y, X, reg, ssig)\n",
    "\n",
    "\n",
    "with MP.Pool() as pool:\n",
    "    for (N, nth, y, X, reg, ssig) in pool.map(regression, range(3, 9)):\n",
    "        response_description[N] = nth.groupby('algorithm').p_recall.describe()\n",
    "        difficulty_description[N] = nth.groupby('algorithm').emp_n0.describe()\n",
    "        regs[N] = reg\n",
    "        coefs_[N] = reg.coef_\n",
    "        ys[N] = y\n",
    "        Xs[N] = X\n",
    "        ssigs[N] = ssig\n",
    "\n",
    "        print(f\"{N} processed.\")"
   ]
  },
  {
   "cell_type": "code",
   "execution_count": null,
   "metadata": {},
   "outputs": [],
   "source": []
  },
  {
   "cell_type": "code",
   "execution_count": 31,
   "metadata": {},
   "outputs": [
    {
     "data": {
      "text/plain": [
       "[array(['random', 'smart', 'spaced'], dtype='<U6')]"
      ]
     },
     "execution_count": 31,
     "metadata": {},
     "output_type": "execute_result"
    }
   ],
   "source": [
    "one_hot_encoder.categories_"
   ]
  },
  {
   "cell_type": "code",
   "execution_count": 32,
   "metadata": {},
   "outputs": [
    {
     "data": {
      "text/plain": [
       "array([['spaced'],\n",
       "       ['random'],\n",
       "       ['smart']], dtype='<U6')"
      ]
     },
     "execution_count": 32,
     "metadata": {},
     "output_type": "execute_result"
    }
   ],
   "source": [
    "one_hot_encoder.inverse_transform([[0, 0], [1, 0], [0, 1]])"
   ]
  },
  {
   "cell_type": "code",
   "execution_count": 33,
   "metadata": {},
   "outputs": [
    {
     "data": {
      "text/plain": [
       "(3,)"
      ]
     },
     "execution_count": 33,
     "metadata": {},
     "output_type": "execute_result"
    }
   ],
   "source": [
    "coefs_[3].shape"
   ]
  },
  {
   "cell_type": "code",
   "execution_count": null,
   "metadata": {},
   "outputs": [],
   "source": []
  },
  {
   "cell_type": "markdown",
   "metadata": {},
   "source": [
    "With `T - T_{median}`"
   ]
  },
  {
   "cell_type": "code",
   "execution_count": 34,
   "metadata": {},
   "outputs": [
    {
     "name": "stdout",
     "output_type": "stream",
     "text": [
      "FR_3 = 0.0025851 + -0.0000198 * (T - T_{median}) + 0.0002434 * I[random] + 0.0002250 * I[smart]\n",
      "FR_4 = 0.0032134 + -0.0000220 * (T - T_{median}) + 0.0001268 * I[random] + 0.0002731 * I[smart]\n",
      "FR_5 = 0.0030441 + -0.0000217 * (T - T_{median}) + 0.0006490 * I[random] + 0.0006731 * I[smart]\n",
      "FR_6 = 0.0030312 + -0.0000220 * (T - T_{median}) + 0.0011450 * I[random] + 0.0009979 * I[smart]\n",
      "FR_7 = 0.0036860 + -0.0000226 * (T - T_{median}) + 0.0006395 * I[random] + 0.0007695 * I[smart]\n",
      "FR_8 = 0.0038292 + -0.0000251 * (T - T_{median}) + 0.0011158 * I[random] + 0.0013460 * I[smart]\n"
     ]
    }
   ],
   "source": [
    "for N in regs:\n",
    "    reg = regs[N]\n",
    "    print(f'FR_{N} = {reg.intercept_:0.7f} + {reg.coef_[0]:0.7f} * (T - T_{{median}}) + {reg.coef_[1]:0.7f} * I[random] + {reg.coef_[2]:0.7f} * I[smart]')"
   ]
  },
  {
   "cell_type": "code",
   "execution_count": null,
   "metadata": {},
   "outputs": [],
   "source": []
  },
  {
   "cell_type": "markdown",
   "metadata": {},
   "source": [
    "The responses are too noisy"
   ]
  },
  {
   "cell_type": "code",
   "execution_count": 35,
   "metadata": {},
   "outputs": [
    {
     "data": {
      "text/html": [
       "<div>\n",
       "<style scoped>\n",
       "    .dataframe tbody tr th:only-of-type {\n",
       "        vertical-align: middle;\n",
       "    }\n",
       "\n",
       "    .dataframe tbody tr th {\n",
       "        vertical-align: top;\n",
       "    }\n",
       "\n",
       "    .dataframe thead th {\n",
       "        text-align: right;\n",
       "    }\n",
       "</style>\n",
       "<table border=\"1\" class=\"dataframe\">\n",
       "  <thead>\n",
       "    <tr style=\"text-align: right;\">\n",
       "      <th></th>\n",
       "      <th>count</th>\n",
       "      <th>mean</th>\n",
       "      <th>std</th>\n",
       "      <th>min</th>\n",
       "      <th>25%</th>\n",
       "      <th>50%</th>\n",
       "      <th>75%</th>\n",
       "      <th>max</th>\n",
       "    </tr>\n",
       "    <tr>\n",
       "      <th>algorithm</th>\n",
       "      <th></th>\n",
       "      <th></th>\n",
       "      <th></th>\n",
       "      <th></th>\n",
       "      <th></th>\n",
       "      <th></th>\n",
       "      <th></th>\n",
       "      <th></th>\n",
       "    </tr>\n",
       "  </thead>\n",
       "  <tbody>\n",
       "    <tr>\n",
       "      <th>random</th>\n",
       "      <td>93636.0</td>\n",
       "      <td>0.803291</td>\n",
       "      <td>0.397512</td>\n",
       "      <td>0.0</td>\n",
       "      <td>1.0</td>\n",
       "      <td>1.0</td>\n",
       "      <td>1.0</td>\n",
       "      <td>1.0</td>\n",
       "    </tr>\n",
       "    <tr>\n",
       "      <th>smart</th>\n",
       "      <td>301954.0</td>\n",
       "      <td>0.804308</td>\n",
       "      <td>0.396733</td>\n",
       "      <td>0.0</td>\n",
       "      <td>1.0</td>\n",
       "      <td>1.0</td>\n",
       "      <td>1.0</td>\n",
       "      <td>1.0</td>\n",
       "    </tr>\n",
       "    <tr>\n",
       "      <th>spaced</th>\n",
       "      <td>69236.0</td>\n",
       "      <td>0.801173</td>\n",
       "      <td>0.399121</td>\n",
       "      <td>0.0</td>\n",
       "      <td>1.0</td>\n",
       "      <td>1.0</td>\n",
       "      <td>1.0</td>\n",
       "      <td>1.0</td>\n",
       "    </tr>\n",
       "  </tbody>\n",
       "</table>\n",
       "</div>"
      ],
      "text/plain": [
       "              count      mean       std  min  25%  50%  75%  max\n",
       "algorithm                                                       \n",
       "random      93636.0  0.803291  0.397512  0.0  1.0  1.0  1.0  1.0\n",
       "smart      301954.0  0.804308  0.396733  0.0  1.0  1.0  1.0  1.0\n",
       "spaced      69236.0  0.801173  0.399121  0.0  1.0  1.0  1.0  1.0"
      ]
     },
     "execution_count": 35,
     "metadata": {},
     "output_type": "execute_result"
    }
   ],
   "source": [
    "response_description[3]"
   ]
  },
  {
   "cell_type": "code",
   "execution_count": 36,
   "metadata": {},
   "outputs": [
    {
     "data": {
      "text/html": [
       "<div>\n",
       "<style scoped>\n",
       "    .dataframe tbody tr th:only-of-type {\n",
       "        vertical-align: middle;\n",
       "    }\n",
       "\n",
       "    .dataframe tbody tr th {\n",
       "        vertical-align: top;\n",
       "    }\n",
       "\n",
       "    .dataframe thead th {\n",
       "        text-align: right;\n",
       "    }\n",
       "</style>\n",
       "<table border=\"1\" class=\"dataframe\">\n",
       "  <thead>\n",
       "    <tr style=\"text-align: right;\">\n",
       "      <th></th>\n",
       "      <th>count</th>\n",
       "      <th>mean</th>\n",
       "      <th>std</th>\n",
       "      <th>min</th>\n",
       "      <th>25%</th>\n",
       "      <th>50%</th>\n",
       "      <th>75%</th>\n",
       "      <th>max</th>\n",
       "    </tr>\n",
       "    <tr>\n",
       "      <th>algorithm</th>\n",
       "      <th></th>\n",
       "      <th></th>\n",
       "      <th></th>\n",
       "      <th></th>\n",
       "      <th></th>\n",
       "      <th></th>\n",
       "      <th></th>\n",
       "      <th></th>\n",
       "    </tr>\n",
       "  </thead>\n",
       "  <tbody>\n",
       "    <tr>\n",
       "      <th>random</th>\n",
       "      <td>53946.0</td>\n",
       "      <td>0.810829</td>\n",
       "      <td>0.391648</td>\n",
       "      <td>0.0</td>\n",
       "      <td>1.0</td>\n",
       "      <td>1.0</td>\n",
       "      <td>1.0</td>\n",
       "      <td>1.0</td>\n",
       "    </tr>\n",
       "    <tr>\n",
       "      <th>smart</th>\n",
       "      <td>181162.0</td>\n",
       "      <td>0.808210</td>\n",
       "      <td>0.393710</td>\n",
       "      <td>0.0</td>\n",
       "      <td>1.0</td>\n",
       "      <td>1.0</td>\n",
       "      <td>1.0</td>\n",
       "      <td>1.0</td>\n",
       "    </tr>\n",
       "    <tr>\n",
       "      <th>spaced</th>\n",
       "      <td>44425.0</td>\n",
       "      <td>0.811548</td>\n",
       "      <td>0.391077</td>\n",
       "      <td>0.0</td>\n",
       "      <td>1.0</td>\n",
       "      <td>1.0</td>\n",
       "      <td>1.0</td>\n",
       "      <td>1.0</td>\n",
       "    </tr>\n",
       "  </tbody>\n",
       "</table>\n",
       "</div>"
      ],
      "text/plain": [
       "              count      mean       std  min  25%  50%  75%  max\n",
       "algorithm                                                       \n",
       "random      53946.0  0.810829  0.391648  0.0  1.0  1.0  1.0  1.0\n",
       "smart      181162.0  0.808210  0.393710  0.0  1.0  1.0  1.0  1.0\n",
       "spaced      44425.0  0.811548  0.391077  0.0  1.0  1.0  1.0  1.0"
      ]
     },
     "execution_count": 36,
     "metadata": {},
     "output_type": "execute_result"
    }
   ],
   "source": [
    "response_description[4]"
   ]
  },
  {
   "cell_type": "code",
   "execution_count": 37,
   "metadata": {},
   "outputs": [
    {
     "data": {
      "text/html": [
       "<div>\n",
       "<style scoped>\n",
       "    .dataframe tbody tr th:only-of-type {\n",
       "        vertical-align: middle;\n",
       "    }\n",
       "\n",
       "    .dataframe tbody tr th {\n",
       "        vertical-align: top;\n",
       "    }\n",
       "\n",
       "    .dataframe thead th {\n",
       "        text-align: right;\n",
       "    }\n",
       "</style>\n",
       "<table border=\"1\" class=\"dataframe\">\n",
       "  <thead>\n",
       "    <tr style=\"text-align: right;\">\n",
       "      <th></th>\n",
       "      <th>count</th>\n",
       "      <th>mean</th>\n",
       "      <th>std</th>\n",
       "      <th>min</th>\n",
       "      <th>25%</th>\n",
       "      <th>50%</th>\n",
       "      <th>75%</th>\n",
       "      <th>max</th>\n",
       "    </tr>\n",
       "    <tr>\n",
       "      <th>algorithm</th>\n",
       "      <th></th>\n",
       "      <th></th>\n",
       "      <th></th>\n",
       "      <th></th>\n",
       "      <th></th>\n",
       "      <th></th>\n",
       "      <th></th>\n",
       "      <th></th>\n",
       "    </tr>\n",
       "  </thead>\n",
       "  <tbody>\n",
       "    <tr>\n",
       "      <th>random</th>\n",
       "      <td>33815.0</td>\n",
       "      <td>0.82351</td>\n",
       "      <td>0.381242</td>\n",
       "      <td>0.0</td>\n",
       "      <td>1.0</td>\n",
       "      <td>1.0</td>\n",
       "      <td>1.0</td>\n",
       "      <td>1.0</td>\n",
       "    </tr>\n",
       "    <tr>\n",
       "      <th>smart</th>\n",
       "      <td>118675.0</td>\n",
       "      <td>0.81242</td>\n",
       "      <td>0.390378</td>\n",
       "      <td>0.0</td>\n",
       "      <td>1.0</td>\n",
       "      <td>1.0</td>\n",
       "      <td>1.0</td>\n",
       "      <td>1.0</td>\n",
       "    </tr>\n",
       "    <tr>\n",
       "      <th>spaced</th>\n",
       "      <td>31207.0</td>\n",
       "      <td>0.82004</td>\n",
       "      <td>0.384160</td>\n",
       "      <td>0.0</td>\n",
       "      <td>1.0</td>\n",
       "      <td>1.0</td>\n",
       "      <td>1.0</td>\n",
       "      <td>1.0</td>\n",
       "    </tr>\n",
       "  </tbody>\n",
       "</table>\n",
       "</div>"
      ],
      "text/plain": [
       "              count     mean       std  min  25%  50%  75%  max\n",
       "algorithm                                                      \n",
       "random      33815.0  0.82351  0.381242  0.0  1.0  1.0  1.0  1.0\n",
       "smart      118675.0  0.81242  0.390378  0.0  1.0  1.0  1.0  1.0\n",
       "spaced      31207.0  0.82004  0.384160  0.0  1.0  1.0  1.0  1.0"
      ]
     },
     "execution_count": 37,
     "metadata": {},
     "output_type": "execute_result"
    }
   ],
   "source": [
    "response_description[5]"
   ]
  },
  {
   "cell_type": "code",
   "execution_count": 38,
   "metadata": {},
   "outputs": [
    {
     "data": {
      "text/html": [
       "<div>\n",
       "<style scoped>\n",
       "    .dataframe tbody tr th:only-of-type {\n",
       "        vertical-align: middle;\n",
       "    }\n",
       "\n",
       "    .dataframe tbody tr th {\n",
       "        vertical-align: top;\n",
       "    }\n",
       "\n",
       "    .dataframe thead th {\n",
       "        text-align: right;\n",
       "    }\n",
       "</style>\n",
       "<table border=\"1\" class=\"dataframe\">\n",
       "  <thead>\n",
       "    <tr style=\"text-align: right;\">\n",
       "      <th></th>\n",
       "      <th>count</th>\n",
       "      <th>mean</th>\n",
       "      <th>std</th>\n",
       "      <th>min</th>\n",
       "      <th>25%</th>\n",
       "      <th>50%</th>\n",
       "      <th>75%</th>\n",
       "      <th>max</th>\n",
       "    </tr>\n",
       "    <tr>\n",
       "      <th>algorithm</th>\n",
       "      <th></th>\n",
       "      <th></th>\n",
       "      <th></th>\n",
       "      <th></th>\n",
       "      <th></th>\n",
       "      <th></th>\n",
       "      <th></th>\n",
       "      <th></th>\n",
       "    </tr>\n",
       "  </thead>\n",
       "  <tbody>\n",
       "    <tr>\n",
       "      <th>random</th>\n",
       "      <td>22650.0</td>\n",
       "      <td>0.830022</td>\n",
       "      <td>0.375622</td>\n",
       "      <td>0.0</td>\n",
       "      <td>1.0</td>\n",
       "      <td>1.0</td>\n",
       "      <td>1.0</td>\n",
       "      <td>1.0</td>\n",
       "    </tr>\n",
       "    <tr>\n",
       "      <th>smart</th>\n",
       "      <td>82305.0</td>\n",
       "      <td>0.815054</td>\n",
       "      <td>0.388256</td>\n",
       "      <td>0.0</td>\n",
       "      <td>1.0</td>\n",
       "      <td>1.0</td>\n",
       "      <td>1.0</td>\n",
       "      <td>1.0</td>\n",
       "    </tr>\n",
       "    <tr>\n",
       "      <th>spaced</th>\n",
       "      <td>22573.0</td>\n",
       "      <td>0.830151</td>\n",
       "      <td>0.375508</td>\n",
       "      <td>0.0</td>\n",
       "      <td>1.0</td>\n",
       "      <td>1.0</td>\n",
       "      <td>1.0</td>\n",
       "      <td>1.0</td>\n",
       "    </tr>\n",
       "  </tbody>\n",
       "</table>\n",
       "</div>"
      ],
      "text/plain": [
       "             count      mean       std  min  25%  50%  75%  max\n",
       "algorithm                                                      \n",
       "random     22650.0  0.830022  0.375622  0.0  1.0  1.0  1.0  1.0\n",
       "smart      82305.0  0.815054  0.388256  0.0  1.0  1.0  1.0  1.0\n",
       "spaced     22573.0  0.830151  0.375508  0.0  1.0  1.0  1.0  1.0"
      ]
     },
     "execution_count": 38,
     "metadata": {},
     "output_type": "execute_result"
    }
   ],
   "source": [
    "response_description[6]"
   ]
  },
  {
   "cell_type": "code",
   "execution_count": 39,
   "metadata": {},
   "outputs": [
    {
     "data": {
      "text/html": [
       "<div>\n",
       "<style scoped>\n",
       "    .dataframe tbody tr th:only-of-type {\n",
       "        vertical-align: middle;\n",
       "    }\n",
       "\n",
       "    .dataframe tbody tr th {\n",
       "        vertical-align: top;\n",
       "    }\n",
       "\n",
       "    .dataframe thead th {\n",
       "        text-align: right;\n",
       "    }\n",
       "</style>\n",
       "<table border=\"1\" class=\"dataframe\">\n",
       "  <thead>\n",
       "    <tr style=\"text-align: right;\">\n",
       "      <th></th>\n",
       "      <th>count</th>\n",
       "      <th>mean</th>\n",
       "      <th>std</th>\n",
       "      <th>min</th>\n",
       "      <th>25%</th>\n",
       "      <th>50%</th>\n",
       "      <th>75%</th>\n",
       "      <th>max</th>\n",
       "    </tr>\n",
       "    <tr>\n",
       "      <th>algorithm</th>\n",
       "      <th></th>\n",
       "      <th></th>\n",
       "      <th></th>\n",
       "      <th></th>\n",
       "      <th></th>\n",
       "      <th></th>\n",
       "      <th></th>\n",
       "      <th></th>\n",
       "    </tr>\n",
       "  </thead>\n",
       "  <tbody>\n",
       "    <tr>\n",
       "      <th>random</th>\n",
       "      <td>15799.0</td>\n",
       "      <td>0.837901</td>\n",
       "      <td>0.368553</td>\n",
       "      <td>0.0</td>\n",
       "      <td>1.0</td>\n",
       "      <td>1.0</td>\n",
       "      <td>1.0</td>\n",
       "      <td>1.0</td>\n",
       "    </tr>\n",
       "    <tr>\n",
       "      <th>smart</th>\n",
       "      <td>59107.0</td>\n",
       "      <td>0.816671</td>\n",
       "      <td>0.386939</td>\n",
       "      <td>0.0</td>\n",
       "      <td>1.0</td>\n",
       "      <td>1.0</td>\n",
       "      <td>1.0</td>\n",
       "      <td>1.0</td>\n",
       "    </tr>\n",
       "    <tr>\n",
       "      <th>spaced</th>\n",
       "      <td>17089.0</td>\n",
       "      <td>0.831529</td>\n",
       "      <td>0.374295</td>\n",
       "      <td>0.0</td>\n",
       "      <td>1.0</td>\n",
       "      <td>1.0</td>\n",
       "      <td>1.0</td>\n",
       "      <td>1.0</td>\n",
       "    </tr>\n",
       "  </tbody>\n",
       "</table>\n",
       "</div>"
      ],
      "text/plain": [
       "             count      mean       std  min  25%  50%  75%  max\n",
       "algorithm                                                      \n",
       "random     15799.0  0.837901  0.368553  0.0  1.0  1.0  1.0  1.0\n",
       "smart      59107.0  0.816671  0.386939  0.0  1.0  1.0  1.0  1.0\n",
       "spaced     17089.0  0.831529  0.374295  0.0  1.0  1.0  1.0  1.0"
      ]
     },
     "execution_count": 39,
     "metadata": {},
     "output_type": "execute_result"
    }
   ],
   "source": [
    "response_description[7]"
   ]
  },
  {
   "cell_type": "code",
   "execution_count": 40,
   "metadata": {},
   "outputs": [
    {
     "data": {
      "text/html": [
       "<div>\n",
       "<style scoped>\n",
       "    .dataframe tbody tr th:only-of-type {\n",
       "        vertical-align: middle;\n",
       "    }\n",
       "\n",
       "    .dataframe tbody tr th {\n",
       "        vertical-align: top;\n",
       "    }\n",
       "\n",
       "    .dataframe thead th {\n",
       "        text-align: right;\n",
       "    }\n",
       "</style>\n",
       "<table border=\"1\" class=\"dataframe\">\n",
       "  <thead>\n",
       "    <tr style=\"text-align: right;\">\n",
       "      <th></th>\n",
       "      <th>count</th>\n",
       "      <th>mean</th>\n",
       "      <th>std</th>\n",
       "      <th>min</th>\n",
       "      <th>25%</th>\n",
       "      <th>50%</th>\n",
       "      <th>75%</th>\n",
       "      <th>max</th>\n",
       "    </tr>\n",
       "    <tr>\n",
       "      <th>algorithm</th>\n",
       "      <th></th>\n",
       "      <th></th>\n",
       "      <th></th>\n",
       "      <th></th>\n",
       "      <th></th>\n",
       "      <th></th>\n",
       "      <th></th>\n",
       "      <th></th>\n",
       "    </tr>\n",
       "  </thead>\n",
       "  <tbody>\n",
       "    <tr>\n",
       "      <th>random</th>\n",
       "      <td>11289.0</td>\n",
       "      <td>0.842944</td>\n",
       "      <td>0.363869</td>\n",
       "      <td>0.0</td>\n",
       "      <td>1.0</td>\n",
       "      <td>1.0</td>\n",
       "      <td>1.0</td>\n",
       "      <td>1.0</td>\n",
       "    </tr>\n",
       "    <tr>\n",
       "      <th>smart</th>\n",
       "      <td>44535.0</td>\n",
       "      <td>0.821107</td>\n",
       "      <td>0.383267</td>\n",
       "      <td>0.0</td>\n",
       "      <td>1.0</td>\n",
       "      <td>1.0</td>\n",
       "      <td>1.0</td>\n",
       "      <td>1.0</td>\n",
       "    </tr>\n",
       "    <tr>\n",
       "      <th>spaced</th>\n",
       "      <td>13514.0</td>\n",
       "      <td>0.840018</td>\n",
       "      <td>0.366603</td>\n",
       "      <td>0.0</td>\n",
       "      <td>1.0</td>\n",
       "      <td>1.0</td>\n",
       "      <td>1.0</td>\n",
       "      <td>1.0</td>\n",
       "    </tr>\n",
       "  </tbody>\n",
       "</table>\n",
       "</div>"
      ],
      "text/plain": [
       "             count      mean       std  min  25%  50%  75%  max\n",
       "algorithm                                                      \n",
       "random     11289.0  0.842944  0.363869  0.0  1.0  1.0  1.0  1.0\n",
       "smart      44535.0  0.821107  0.383267  0.0  1.0  1.0  1.0  1.0\n",
       "spaced     13514.0  0.840018  0.366603  0.0  1.0  1.0  1.0  1.0"
      ]
     },
     "execution_count": 40,
     "metadata": {},
     "output_type": "execute_result"
    }
   ],
   "source": [
    "response_description[8]"
   ]
  },
  {
   "cell_type": "code",
   "execution_count": null,
   "metadata": {},
   "outputs": [],
   "source": []
  },
  {
   "cell_type": "markdown",
   "metadata": {},
   "source": [
    "Median difficulty of `spaced` is larger than `smart` and the difference is statistically significant.\n",
    "But the difference is less extreme between `spaced` and `random`."
   ]
  },
  {
   "cell_type": "code",
   "execution_count": 41,
   "metadata": {},
   "outputs": [
    {
     "data": {
      "text/html": [
       "<div>\n",
       "<style scoped>\n",
       "    .dataframe tbody tr th:only-of-type {\n",
       "        vertical-align: middle;\n",
       "    }\n",
       "\n",
       "    .dataframe tbody tr th {\n",
       "        vertical-align: top;\n",
       "    }\n",
       "\n",
       "    .dataframe thead th {\n",
       "        text-align: right;\n",
       "    }\n",
       "</style>\n",
       "<table border=\"1\" class=\"dataframe\">\n",
       "  <thead>\n",
       "    <tr style=\"text-align: right;\">\n",
       "      <th></th>\n",
       "      <th>count</th>\n",
       "      <th>mean</th>\n",
       "      <th>std</th>\n",
       "      <th>min</th>\n",
       "      <th>25%</th>\n",
       "      <th>50%</th>\n",
       "      <th>75%</th>\n",
       "      <th>max</th>\n",
       "    </tr>\n",
       "    <tr>\n",
       "      <th>algorithm</th>\n",
       "      <th></th>\n",
       "      <th></th>\n",
       "      <th></th>\n",
       "      <th></th>\n",
       "      <th></th>\n",
       "      <th></th>\n",
       "      <th></th>\n",
       "      <th></th>\n",
       "    </tr>\n",
       "  </thead>\n",
       "  <tbody>\n",
       "    <tr>\n",
       "      <th>random</th>\n",
       "      <td>93636.0</td>\n",
       "      <td>156.389901</td>\n",
       "      <td>315.457521</td>\n",
       "      <td>0.000257</td>\n",
       "      <td>41.515357</td>\n",
       "      <td>100.821579</td>\n",
       "      <td>196.468424</td>\n",
       "      <td>5696.039452</td>\n",
       "    </tr>\n",
       "    <tr>\n",
       "      <th>smart</th>\n",
       "      <td>301954.0</td>\n",
       "      <td>152.335195</td>\n",
       "      <td>335.913867</td>\n",
       "      <td>0.000305</td>\n",
       "      <td>35.744616</td>\n",
       "      <td>94.241640</td>\n",
       "      <td>184.925492</td>\n",
       "      <td>5696.039452</td>\n",
       "    </tr>\n",
       "    <tr>\n",
       "      <th>spaced</th>\n",
       "      <td>69236.0</td>\n",
       "      <td>156.670494</td>\n",
       "      <td>320.449471</td>\n",
       "      <td>0.002473</td>\n",
       "      <td>41.891584</td>\n",
       "      <td>101.266918</td>\n",
       "      <td>195.875268</td>\n",
       "      <td>5696.039452</td>\n",
       "    </tr>\n",
       "  </tbody>\n",
       "</table>\n",
       "</div>"
      ],
      "text/plain": [
       "              count        mean         std       min        25%         50%  \\\n",
       "algorithm                                                                      \n",
       "random      93636.0  156.389901  315.457521  0.000257  41.515357  100.821579   \n",
       "smart      301954.0  152.335195  335.913867  0.000305  35.744616   94.241640   \n",
       "spaced      69236.0  156.670494  320.449471  0.002473  41.891584  101.266918   \n",
       "\n",
       "                  75%          max  \n",
       "algorithm                           \n",
       "random     196.468424  5696.039452  \n",
       "smart      184.925492  5696.039452  \n",
       "spaced     195.875268  5696.039452  "
      ]
     },
     "execution_count": 41,
     "metadata": {},
     "output_type": "execute_result"
    }
   ],
   "source": [
    "difficulty_description[3]"
   ]
  },
  {
   "cell_type": "code",
   "execution_count": 42,
   "metadata": {},
   "outputs": [
    {
     "data": {
      "text/html": [
       "<div>\n",
       "<style scoped>\n",
       "    .dataframe tbody tr th:only-of-type {\n",
       "        vertical-align: middle;\n",
       "    }\n",
       "\n",
       "    .dataframe tbody tr th {\n",
       "        vertical-align: top;\n",
       "    }\n",
       "\n",
       "    .dataframe thead th {\n",
       "        text-align: right;\n",
       "    }\n",
       "</style>\n",
       "<table border=\"1\" class=\"dataframe\">\n",
       "  <thead>\n",
       "    <tr style=\"text-align: right;\">\n",
       "      <th></th>\n",
       "      <th>count</th>\n",
       "      <th>mean</th>\n",
       "      <th>std</th>\n",
       "      <th>min</th>\n",
       "      <th>25%</th>\n",
       "      <th>50%</th>\n",
       "      <th>75%</th>\n",
       "      <th>max</th>\n",
       "    </tr>\n",
       "    <tr>\n",
       "      <th>algorithm</th>\n",
       "      <th></th>\n",
       "      <th></th>\n",
       "      <th></th>\n",
       "      <th></th>\n",
       "      <th></th>\n",
       "      <th></th>\n",
       "      <th></th>\n",
       "      <th></th>\n",
       "    </tr>\n",
       "  </thead>\n",
       "  <tbody>\n",
       "    <tr>\n",
       "      <th>random</th>\n",
       "      <td>53946.0</td>\n",
       "      <td>161.463943</td>\n",
       "      <td>331.015418</td>\n",
       "      <td>0.003677</td>\n",
       "      <td>41.891584</td>\n",
       "      <td>101.985193</td>\n",
       "      <td>197.803668</td>\n",
       "      <td>5696.039452</td>\n",
       "    </tr>\n",
       "    <tr>\n",
       "      <th>smart</th>\n",
       "      <td>181162.0</td>\n",
       "      <td>154.025928</td>\n",
       "      <td>336.966692</td>\n",
       "      <td>0.000305</td>\n",
       "      <td>38.496791</td>\n",
       "      <td>95.898215</td>\n",
       "      <td>186.077401</td>\n",
       "      <td>5696.039452</td>\n",
       "    </tr>\n",
       "    <tr>\n",
       "      <th>spaced</th>\n",
       "      <td>44425.0</td>\n",
       "      <td>157.616913</td>\n",
       "      <td>308.254542</td>\n",
       "      <td>0.002711</td>\n",
       "      <td>41.891584</td>\n",
       "      <td>103.393861</td>\n",
       "      <td>197.803668</td>\n",
       "      <td>5422.140080</td>\n",
       "    </tr>\n",
       "  </tbody>\n",
       "</table>\n",
       "</div>"
      ],
      "text/plain": [
       "              count        mean         std       min        25%         50%  \\\n",
       "algorithm                                                                      \n",
       "random      53946.0  161.463943  331.015418  0.003677  41.891584  101.985193   \n",
       "smart      181162.0  154.025928  336.966692  0.000305  38.496791   95.898215   \n",
       "spaced      44425.0  157.616913  308.254542  0.002711  41.891584  103.393861   \n",
       "\n",
       "                  75%          max  \n",
       "algorithm                           \n",
       "random     197.803668  5696.039452  \n",
       "smart      186.077401  5696.039452  \n",
       "spaced     197.803668  5422.140080  "
      ]
     },
     "execution_count": 42,
     "metadata": {},
     "output_type": "execute_result"
    }
   ],
   "source": [
    "difficulty_description[4]"
   ]
  },
  {
   "cell_type": "code",
   "execution_count": 43,
   "metadata": {},
   "outputs": [
    {
     "data": {
      "text/html": [
       "<div>\n",
       "<style scoped>\n",
       "    .dataframe tbody tr th:only-of-type {\n",
       "        vertical-align: middle;\n",
       "    }\n",
       "\n",
       "    .dataframe tbody tr th {\n",
       "        vertical-align: top;\n",
       "    }\n",
       "\n",
       "    .dataframe thead th {\n",
       "        text-align: right;\n",
       "    }\n",
       "</style>\n",
       "<table border=\"1\" class=\"dataframe\">\n",
       "  <thead>\n",
       "    <tr style=\"text-align: right;\">\n",
       "      <th></th>\n",
       "      <th>count</th>\n",
       "      <th>mean</th>\n",
       "      <th>std</th>\n",
       "      <th>min</th>\n",
       "      <th>25%</th>\n",
       "      <th>50%</th>\n",
       "      <th>75%</th>\n",
       "      <th>max</th>\n",
       "    </tr>\n",
       "    <tr>\n",
       "      <th>algorithm</th>\n",
       "      <th></th>\n",
       "      <th></th>\n",
       "      <th></th>\n",
       "      <th></th>\n",
       "      <th></th>\n",
       "      <th></th>\n",
       "      <th></th>\n",
       "      <th></th>\n",
       "    </tr>\n",
       "  </thead>\n",
       "  <tbody>\n",
       "    <tr>\n",
       "      <th>random</th>\n",
       "      <td>33815.0</td>\n",
       "      <td>162.075510</td>\n",
       "      <td>324.949744</td>\n",
       "      <td>0.003677</td>\n",
       "      <td>41.891584</td>\n",
       "      <td>103.827552</td>\n",
       "      <td>198.983210</td>\n",
       "      <td>5696.039452</td>\n",
       "    </tr>\n",
       "    <tr>\n",
       "      <th>smart</th>\n",
       "      <td>118675.0</td>\n",
       "      <td>153.174289</td>\n",
       "      <td>327.530755</td>\n",
       "      <td>0.002711</td>\n",
       "      <td>38.624822</td>\n",
       "      <td>96.597275</td>\n",
       "      <td>185.387810</td>\n",
       "      <td>5696.039452</td>\n",
       "    </tr>\n",
       "    <tr>\n",
       "      <th>spaced</th>\n",
       "      <td>31207.0</td>\n",
       "      <td>158.482178</td>\n",
       "      <td>312.713507</td>\n",
       "      <td>0.002727</td>\n",
       "      <td>41.891584</td>\n",
       "      <td>104.208995</td>\n",
       "      <td>197.803668</td>\n",
       "      <td>5422.140080</td>\n",
       "    </tr>\n",
       "  </tbody>\n",
       "</table>\n",
       "</div>"
      ],
      "text/plain": [
       "              count        mean         std       min        25%         50%  \\\n",
       "algorithm                                                                      \n",
       "random      33815.0  162.075510  324.949744  0.003677  41.891584  103.827552   \n",
       "smart      118675.0  153.174289  327.530755  0.002711  38.624822   96.597275   \n",
       "spaced      31207.0  158.482178  312.713507  0.002727  41.891584  104.208995   \n",
       "\n",
       "                  75%          max  \n",
       "algorithm                           \n",
       "random     198.983210  5696.039452  \n",
       "smart      185.387810  5696.039452  \n",
       "spaced     197.803668  5422.140080  "
      ]
     },
     "execution_count": 43,
     "metadata": {},
     "output_type": "execute_result"
    }
   ],
   "source": [
    "difficulty_description[5]"
   ]
  },
  {
   "cell_type": "code",
   "execution_count": 44,
   "metadata": {},
   "outputs": [
    {
     "data": {
      "text/html": [
       "<div>\n",
       "<style scoped>\n",
       "    .dataframe tbody tr th:only-of-type {\n",
       "        vertical-align: middle;\n",
       "    }\n",
       "\n",
       "    .dataframe tbody tr th {\n",
       "        vertical-align: top;\n",
       "    }\n",
       "\n",
       "    .dataframe thead th {\n",
       "        text-align: right;\n",
       "    }\n",
       "</style>\n",
       "<table border=\"1\" class=\"dataframe\">\n",
       "  <thead>\n",
       "    <tr style=\"text-align: right;\">\n",
       "      <th></th>\n",
       "      <th>count</th>\n",
       "      <th>mean</th>\n",
       "      <th>std</th>\n",
       "      <th>min</th>\n",
       "      <th>25%</th>\n",
       "      <th>50%</th>\n",
       "      <th>75%</th>\n",
       "      <th>max</th>\n",
       "    </tr>\n",
       "    <tr>\n",
       "      <th>algorithm</th>\n",
       "      <th></th>\n",
       "      <th></th>\n",
       "      <th></th>\n",
       "      <th></th>\n",
       "      <th></th>\n",
       "      <th></th>\n",
       "      <th></th>\n",
       "      <th></th>\n",
       "    </tr>\n",
       "  </thead>\n",
       "  <tbody>\n",
       "    <tr>\n",
       "      <th>random</th>\n",
       "      <td>22650.0</td>\n",
       "      <td>159.055326</td>\n",
       "      <td>315.561502</td>\n",
       "      <td>0.003677</td>\n",
       "      <td>41.515357</td>\n",
       "      <td>102.890631</td>\n",
       "      <td>196.468424</td>\n",
       "      <td>5074.677048</td>\n",
       "    </tr>\n",
       "    <tr>\n",
       "      <th>smart</th>\n",
       "      <td>82305.0</td>\n",
       "      <td>154.136428</td>\n",
       "      <td>332.763470</td>\n",
       "      <td>0.002711</td>\n",
       "      <td>38.624822</td>\n",
       "      <td>96.685378</td>\n",
       "      <td>183.847002</td>\n",
       "      <td>5696.039452</td>\n",
       "    </tr>\n",
       "    <tr>\n",
       "      <th>spaced</th>\n",
       "      <td>22573.0</td>\n",
       "      <td>160.029695</td>\n",
       "      <td>319.592537</td>\n",
       "      <td>0.003107</td>\n",
       "      <td>42.127365</td>\n",
       "      <td>106.071437</td>\n",
       "      <td>197.924957</td>\n",
       "      <td>5422.140080</td>\n",
       "    </tr>\n",
       "  </tbody>\n",
       "</table>\n",
       "</div>"
      ],
      "text/plain": [
       "             count        mean         std       min        25%         50%  \\\n",
       "algorithm                                                                     \n",
       "random     22650.0  159.055326  315.561502  0.003677  41.515357  102.890631   \n",
       "smart      82305.0  154.136428  332.763470  0.002711  38.624822   96.685378   \n",
       "spaced     22573.0  160.029695  319.592537  0.003107  42.127365  106.071437   \n",
       "\n",
       "                  75%          max  \n",
       "algorithm                           \n",
       "random     196.468424  5074.677048  \n",
       "smart      183.847002  5696.039452  \n",
       "spaced     197.924957  5422.140080  "
      ]
     },
     "execution_count": 44,
     "metadata": {},
     "output_type": "execute_result"
    }
   ],
   "source": [
    "difficulty_description[6]"
   ]
  },
  {
   "cell_type": "code",
   "execution_count": 45,
   "metadata": {},
   "outputs": [
    {
     "data": {
      "text/html": [
       "<div>\n",
       "<style scoped>\n",
       "    .dataframe tbody tr th:only-of-type {\n",
       "        vertical-align: middle;\n",
       "    }\n",
       "\n",
       "    .dataframe tbody tr th {\n",
       "        vertical-align: top;\n",
       "    }\n",
       "\n",
       "    .dataframe thead th {\n",
       "        text-align: right;\n",
       "    }\n",
       "</style>\n",
       "<table border=\"1\" class=\"dataframe\">\n",
       "  <thead>\n",
       "    <tr style=\"text-align: right;\">\n",
       "      <th></th>\n",
       "      <th>count</th>\n",
       "      <th>mean</th>\n",
       "      <th>std</th>\n",
       "      <th>min</th>\n",
       "      <th>25%</th>\n",
       "      <th>50%</th>\n",
       "      <th>75%</th>\n",
       "      <th>max</th>\n",
       "    </tr>\n",
       "    <tr>\n",
       "      <th>algorithm</th>\n",
       "      <th></th>\n",
       "      <th></th>\n",
       "      <th></th>\n",
       "      <th></th>\n",
       "      <th></th>\n",
       "      <th></th>\n",
       "      <th></th>\n",
       "      <th></th>\n",
       "    </tr>\n",
       "  </thead>\n",
       "  <tbody>\n",
       "    <tr>\n",
       "      <th>random</th>\n",
       "      <td>15799.0</td>\n",
       "      <td>155.326173</td>\n",
       "      <td>308.043959</td>\n",
       "      <td>0.014519</td>\n",
       "      <td>41.515357</td>\n",
       "      <td>101.187132</td>\n",
       "      <td>191.373765</td>\n",
       "      <td>5074.677048</td>\n",
       "    </tr>\n",
       "    <tr>\n",
       "      <th>smart</th>\n",
       "      <td>59107.0</td>\n",
       "      <td>154.350271</td>\n",
       "      <td>331.020767</td>\n",
       "      <td>0.003677</td>\n",
       "      <td>40.324890</td>\n",
       "      <td>97.904414</td>\n",
       "      <td>183.279687</td>\n",
       "      <td>5696.039452</td>\n",
       "    </tr>\n",
       "    <tr>\n",
       "      <th>spaced</th>\n",
       "      <td>17089.0</td>\n",
       "      <td>159.954807</td>\n",
       "      <td>311.201253</td>\n",
       "      <td>0.003107</td>\n",
       "      <td>41.891584</td>\n",
       "      <td>106.071437</td>\n",
       "      <td>200.072901</td>\n",
       "      <td>5422.140080</td>\n",
       "    </tr>\n",
       "  </tbody>\n",
       "</table>\n",
       "</div>"
      ],
      "text/plain": [
       "             count        mean         std       min        25%         50%  \\\n",
       "algorithm                                                                     \n",
       "random     15799.0  155.326173  308.043959  0.014519  41.515357  101.187132   \n",
       "smart      59107.0  154.350271  331.020767  0.003677  40.324890   97.904414   \n",
       "spaced     17089.0  159.954807  311.201253  0.003107  41.891584  106.071437   \n",
       "\n",
       "                  75%          max  \n",
       "algorithm                           \n",
       "random     191.373765  5074.677048  \n",
       "smart      183.279687  5696.039452  \n",
       "spaced     200.072901  5422.140080  "
      ]
     },
     "execution_count": 45,
     "metadata": {},
     "output_type": "execute_result"
    }
   ],
   "source": [
    "difficulty_description[7]"
   ]
  },
  {
   "cell_type": "code",
   "execution_count": null,
   "metadata": {},
   "outputs": [],
   "source": []
  },
  {
   "cell_type": "code",
   "execution_count": 46,
   "metadata": {},
   "outputs": [
    {
     "data": {
      "text/plain": [
       "{3: {('smart',\n",
       "   'random'): MannwhitneyuResult(statistic=1603752.0, pvalue=0.26206792498748166),\n",
       "  ('spaced',\n",
       "   'random'): MannwhitneyuResult(statistic=287797.5, pvalue=8.165173812281938e-05),\n",
       "  ('spaced',\n",
       "   'smart'): MannwhitneyuResult(statistic=1114062.0, pvalue=2.6892165135626432e-05)},\n",
       " 4: {('smart',\n",
       "   'random'): MannwhitneyuResult(statistic=1603752.0, pvalue=0.26206792498748166),\n",
       "  ('spaced',\n",
       "   'random'): MannwhitneyuResult(statistic=287797.5, pvalue=8.165173812281938e-05),\n",
       "  ('spaced',\n",
       "   'smart'): MannwhitneyuResult(statistic=1114062.0, pvalue=2.6892165135626432e-05)},\n",
       " 5: {('smart',\n",
       "   'random'): MannwhitneyuResult(statistic=1603752.0, pvalue=0.26206792498748166),\n",
       "  ('spaced',\n",
       "   'random'): MannwhitneyuResult(statistic=287797.5, pvalue=8.165173812281938e-05),\n",
       "  ('spaced',\n",
       "   'smart'): MannwhitneyuResult(statistic=1114062.0, pvalue=2.6892165135626432e-05)},\n",
       " 6: {('smart',\n",
       "   'random'): MannwhitneyuResult(statistic=1603752.0, pvalue=0.26206792498748166),\n",
       "  ('spaced',\n",
       "   'random'): MannwhitneyuResult(statistic=287797.5, pvalue=8.165173812281938e-05),\n",
       "  ('spaced',\n",
       "   'smart'): MannwhitneyuResult(statistic=1114062.0, pvalue=2.6892165135626432e-05)},\n",
       " 7: {('smart',\n",
       "   'random'): MannwhitneyuResult(statistic=1603752.0, pvalue=0.26206792498748166),\n",
       "  ('spaced',\n",
       "   'random'): MannwhitneyuResult(statistic=287797.5, pvalue=8.165173812281938e-05),\n",
       "  ('spaced',\n",
       "   'smart'): MannwhitneyuResult(statistic=1114062.0, pvalue=2.6892165135626432e-05)},\n",
       " 8: {('smart',\n",
       "   'random'): MannwhitneyuResult(statistic=1603752.0, pvalue=0.26206792498748166),\n",
       "  ('spaced',\n",
       "   'random'): MannwhitneyuResult(statistic=287797.5, pvalue=8.165173812281938e-05),\n",
       "  ('spaced',\n",
       "   'smart'): MannwhitneyuResult(statistic=1114062.0, pvalue=2.6892165135626432e-05)}}"
      ]
     },
     "execution_count": 46,
     "metadata": {},
     "output_type": "execute_result"
    }
   ],
   "source": [
    "ssigs"
   ]
  },
  {
   "cell_type": "code",
   "execution_count": null,
   "metadata": {},
   "outputs": [],
   "source": []
  },
  {
   "cell_type": "code",
   "execution_count": null,
   "metadata": {},
   "outputs": [],
   "source": []
  },
  {
   "cell_type": "code",
   "execution_count": null,
   "metadata": {},
   "outputs": [],
   "source": []
  },
  {
   "cell_type": "code",
   "execution_count": null,
   "metadata": {},
   "outputs": [],
   "source": []
  },
  {
   "cell_type": "markdown",
   "metadata": {},
   "source": [
    "### Individual FR plots"
   ]
  },
  {
   "cell_type": "code",
   "execution_count": 47,
   "metadata": {},
   "outputs": [
    {
     "name": "stdout",
     "output_type": "stream",
     "text": [
      "CPU times: user 14min 43s, sys: 14min 48s, total: 29min 31s\n",
      "Wall time: 1min 7s\n"
     ]
    },
    {
     "data": {
      "image/png": "[encoded data removed]",
      "text/plain": [
       "<Figure size 427.382x360 with 1 Axes>"
      ]
     },
     "metadata": {},
     "output_type": "display_data"
    }
   ],
   "source": [
    "%%time\n",
    "N = 3\n",
    "(N, nth, y, X, reg, ssig) = regression(N=N)\n",
    "coef_ = reg.coef_\n",
    "T = np.array(X[:, 0]).squeeze()\n",
    "alg = one_hot_encoder.inverse_transform(X[:, 1:]).squeeze()\n",
    "idx = (y < np.percentile(y, 95))  # Reject the top x% of values.\n",
    "clrs = sns.color_palette('Set2', n_colors=3)\n",
    "color_map = {'smart': clrs[0], 'spaced': clrs[1], 'random': clrs[2]}\n",
    "plot_data = pd.DataFrame.from_records([{'Algorithm': algo, 'T': T, 'FR': fr} for (algo, T, fr) in zip(alg.squeeze()[idx], T[idx], y[idx])])\n",
    "splot = sns.lmplot(x=\"T\", y=\"FR\", hue=\"Algorithm\", data=plot_data, palette=color_map, scatter_kws={'alpha': 0.01})\n",
    "splot.set(yscale='log') # , xscale='log')\n",
    "splot.set(title=f'FR against review time (\\\\#reviews = {N - 1})')"
   ]
  },
  {
   "cell_type": "code",
   "execution_count": null,
   "metadata": {},
   "outputs": [],
   "source": []
  },
  {
   "cell_type": "code",
   "execution_count": 48,
   "metadata": {},
   "outputs": [
    {
     "data": {
      "text/plain": [
       "count    464826.000000\n",
       "mean          5.227634\n",
       "std          14.957487\n",
       "min          -1.051030\n",
       "25%          -1.001678\n",
       "50%           0.000000\n",
       "75%           4.089777\n",
       "max         199.929444\n",
       "dtype: float64"
      ]
     },
     "execution_count": 48,
     "metadata": {},
     "output_type": "execute_result"
    }
   ],
   "source": [
    "pd.Series(T).describe()"
   ]
  },
  {
   "cell_type": "code",
   "execution_count": 49,
   "metadata": {},
   "outputs": [
    {
     "data": {
      "text/plain": [
       "count    1799.000000\n",
       "mean      119.546290\n",
       "std       338.516848\n",
       "min         0.000257\n",
       "25%         2.061961\n",
       "50%        40.590857\n",
       "75%       132.207625\n",
       "max      5696.039452\n",
       "Name: emp_n0, dtype: float64"
      ]
     },
     "execution_count": 49,
     "metadata": {},
     "output_type": "execute_result"
    }
   ],
   "source": [
    "lexeme_emp_n0.describe()"
   ]
  },
  {
   "cell_type": "code",
   "execution_count": 50,
   "metadata": {},
   "outputs": [
    {
     "data": {
      "text/plain": [
       "count    4.648260e+05\n",
       "mean     1.786863e+00\n",
       "std      5.102000e+01\n",
       "min      1.415011e-08\n",
       "25%      4.728363e-05\n",
       "50%      5.974014e-04\n",
       "75%      1.447973e-02\n",
       "max      1.551676e+04\n",
       "Name: p_recall, dtype: float64"
      ]
     },
     "execution_count": 50,
     "metadata": {},
     "output_type": "execute_result"
    }
   ],
   "source": [
    "y.describe()"
   ]
  },
  {
   "cell_type": "code",
   "execution_count": 51,
   "metadata": {},
   "outputs": [
    {
     "data": {
      "text/plain": [
       "1    373551\n",
       "0     91275\n",
       "Name: p_recall, dtype: int64"
      ]
     },
     "execution_count": 51,
     "metadata": {},
     "output_type": "execute_result"
    }
   ],
   "source": [
    "nth['p_recall'].value_counts()"
   ]
  },
  {
   "cell_type": "code",
   "execution_count": null,
   "metadata": {},
   "outputs": [],
   "source": []
  },
  {
   "cell_type": "code",
   "execution_count": 52,
   "metadata": {},
   "outputs": [
    {
     "data": {
      "text/plain": [
       "((464826,), (464826,), (464826,))"
      ]
     },
     "execution_count": 52,
     "metadata": {},
     "output_type": "execute_result"
    }
   ],
   "source": [
    "alg.shape, T.shape, y.shape"
   ]
  },
  {
   "cell_type": "code",
   "execution_count": 53,
   "metadata": {},
   "outputs": [
    {
     "data": {
      "text/plain": [
       "1.2058436365090057"
      ]
     },
     "execution_count": 53,
     "metadata": {},
     "output_type": "execute_result"
    }
   ],
   "source": [
    "np.percentile(y, 95)"
   ]
  },
  {
   "cell_type": "code",
   "execution_count": null,
   "metadata": {},
   "outputs": [],
   "source": []
  },
  {
   "cell_type": "code",
   "execution_count": null,
   "metadata": {},
   "outputs": [],
   "source": []
  },
  {
   "cell_type": "code",
   "execution_count": null,
   "metadata": {},
   "outputs": [],
   "source": []
  },
  {
   "cell_type": "code",
   "execution_count": null,
   "metadata": {},
   "outputs": [],
   "source": []
  },
  {
   "cell_type": "code",
   "execution_count": null,
   "metadata": {},
   "outputs": [],
   "source": []
  },
  {
   "cell_type": "code",
   "execution_count": null,
   "metadata": {},
   "outputs": [],
   "source": []
  },
  {
   "cell_type": "code",
   "execution_count": null,
   "metadata": {},
   "outputs": [],
   "source": []
  },
  {
   "cell_type": "code",
   "execution_count": null,
   "metadata": {},
   "outputs": [],
   "source": []
  },
  {
   "cell_type": "code",
   "execution_count": null,
   "metadata": {},
   "outputs": [],
   "source": []
  },
  {
   "cell_type": "code",
   "execution_count": null,
   "metadata": {},
   "outputs": [],
   "source": []
  },
  {
   "cell_type": "code",
   "execution_count": null,
   "metadata": {},
   "outputs": [],
   "source": []
  },
  {
   "cell_type": "code",
   "execution_count": null,
   "metadata": {},
   "outputs": [],
   "source": []
  },
  {
   "cell_type": "code",
   "execution_count": null,
   "metadata": {},
   "outputs": [],
   "source": []
  },
  {
   "cell_type": "code",
   "execution_count": null,
   "metadata": {},
   "outputs": [],
   "source": []
  },
  {
   "cell_type": "code",
   "execution_count": null,
   "metadata": {},
   "outputs": [],
   "source": []
  },
  {
   "cell_type": "code",
   "execution_count": null,
   "metadata": {},
   "outputs": [],
   "source": []
  },
  {
   "cell_type": "code",
   "execution_count": null,
   "metadata": {},
   "outputs": [],
   "source": []
  },
  {
   "cell_type": "code",
   "execution_count": null,
   "metadata": {},
   "outputs": [],
   "source": []
  },
  {
   "cell_type": "code",
   "execution_count": null,
   "metadata": {},
   "outputs": [],
   "source": []
  },
  {
   "cell_type": "code",
   "execution_count": null,
   "metadata": {},
   "outputs": [],
   "source": []
  },
  {
   "cell_type": "code",
   "execution_count": null,
   "metadata": {},
   "outputs": [],
   "source": []
  },
  {
   "cell_type": "code",
   "execution_count": null,
   "metadata": {},
   "outputs": [],
   "source": []
  },
  {
   "cell_type": "code",
   "execution_count": null,
   "metadata": {},
   "outputs": [],
   "source": []
  },
  {
   "cell_type": "code",
   "execution_count": null,
   "metadata": {},
   "outputs": [],
   "source": []
  },
  {
   "cell_type": "code",
   "execution_count": null,
   "metadata": {},
   "outputs": [],
   "source": []
  },
  {
   "cell_type": "code",
   "execution_count": null,
   "metadata": {},
   "outputs": [],
   "source": []
  },
  {
   "cell_type": "code",
   "execution_count": null,
   "metadata": {},
   "outputs": [],
   "source": []
  },
  {
   "cell_type": "code",
   "execution_count": null,
   "metadata": {},
   "outputs": [],
   "source": []
  },
  {
   "cell_type": "code",
   "execution_count": null,
   "metadata": {},
   "outputs": [],
   "source": []
  },
  {
   "cell_type": "code",
   "execution_count": null,
   "metadata": {},
   "outputs": [],
   "source": []
  },
  {
   "cell_type": "code",
   "execution_count": null,
   "metadata": {},
   "outputs": [],
   "source": []
  },
  {
   "cell_type": "code",
   "execution_count": null,
   "metadata": {},
   "outputs": [],
   "source": []
  },
  {
   "cell_type": "code",
   "execution_count": null,
   "metadata": {},
   "outputs": [],
   "source": []
  },
  {
   "cell_type": "code",
   "execution_count": null,
   "metadata": {},
   "outputs": [],
   "source": []
  },
  {
   "cell_type": "code",
   "execution_count": null,
   "metadata": {},
   "outputs": [],
   "source": []
  },
  {
   "cell_type": "code",
   "execution_count": null,
   "metadata": {},
   "outputs": [],
   "source": []
  },
  {
   "cell_type": "code",
   "execution_count": null,
   "metadata": {},
   "outputs": [],
   "source": []
  },
  {
   "cell_type": "code",
   "execution_count": null,
   "metadata": {},
   "outputs": [],
   "source": []
  },
  {
   "cell_type": "code",
   "execution_count": null,
   "metadata": {},
   "outputs": [],
   "source": []
  },
  {
   "cell_type": "code",
   "execution_count": null,
   "metadata": {},
   "outputs": [],
   "source": []
  },
  {
   "cell_type": "code",
   "execution_count": null,
   "metadata": {},
   "outputs": [],
   "source": []
  },
  {
   "cell_type": "code",
   "execution_count": null,
   "metadata": {},
   "outputs": [],
   "source": []
  },
  {
   "cell_type": "code",
   "execution_count": null,
   "metadata": {},
   "outputs": [],
   "source": []
  },
  {
   "cell_type": "code",
   "execution_count": null,
   "metadata": {},
   "outputs": [],
   "source": []
  },
  {
   "cell_type": "code",
   "execution_count": null,
   "metadata": {},
   "outputs": [],
   "source": []
  },
  {
   "cell_type": "code",
   "execution_count": null,
   "metadata": {},
   "outputs": [],
   "source": []
  },
  {
   "cell_type": "code",
   "execution_count": null,
   "metadata": {},
   "outputs": [],
   "source": []
  },
  {
   "cell_type": "code",
   "execution_count": null,
   "metadata": {},
   "outputs": [],
   "source": []
  },
  {
   "cell_type": "code",
   "execution_count": null,
   "metadata": {},
   "outputs": [],
   "source": []
  },
  {
   "cell_type": "code",
   "execution_count": null,
   "metadata": {},
   "outputs": [],
   "source": []
  },
  {
   "cell_type": "code",
   "execution_count": null,
   "metadata": {},
   "outputs": [],
   "source": []
  },
  {
   "cell_type": "code",
   "execution_count": null,
   "metadata": {},
   "outputs": [],
   "source": []
  },
  {
   "cell_type": "code",
   "execution_count": null,
   "metadata": {},
   "outputs": [],
   "source": []
  },
  {
   "cell_type": "code",
   "execution_count": null,
   "metadata": {},
   "outputs": [],
   "source": []
  },
  {
   "cell_type": "code",
   "execution_count": null,
   "metadata": {},
   "outputs": [],
   "source": []
  },
  {
   "cell_type": "code",
   "execution_count": null,
   "metadata": {},
   "outputs": [],
   "source": []
  },
  {
   "cell_type": "code",
   "execution_count": null,
   "metadata": {},
   "outputs": [],
   "source": []
  }
 ],
 "metadata": {
  "kernelspec": {
   "display_name": "Python 3",
   "language": "python",
   "name": "python3"
  },
  "language_info": {
   "codemirror_mode": {
    "name": "ipython",
    "version": 3
   },
   "file_extension": ".py",
   "mimetype": "text/x-python",
   "name": "python",
   "nbconvert_exporter": "python",
   "pygments_lexer": "ipython3",
   "version": "3.7.3"
  }
 },
 "nbformat": 4,
 "nbformat_minor": 2
}
