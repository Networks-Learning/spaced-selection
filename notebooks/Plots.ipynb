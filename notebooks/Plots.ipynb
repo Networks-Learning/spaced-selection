{
 "cells": [
  {
   "cell_type": "code",
   "execution_count": 9,
   "metadata": {},
   "outputs": [],
   "source": [
    "%matplotlib inline"
   ]
  },
  {
   "cell_type": "code",
   "execution_count": null,
   "metadata": {},
   "outputs": [],
   "source": []
  },
  {
   "cell_type": "code",
   "execution_count": 10,
   "metadata": {},
   "outputs": [],
   "source": [
    "import pandas as pd\n",
    "import matplotlib.pyplot as plt\n",
    "import seaborn as sns\n",
    "from scipy.stats import pearsonr\n",
    "import glob\n",
    "import multiprocessing as MP\n",
    "import numpy as np"
   ]
  },
  {
   "cell_type": "code",
   "execution_count": 11,
   "metadata": {},
   "outputs": [],
   "source": [
    "sns.set_style('ticks')\n",
    "sns.set_palette('husl')"
   ]
  },
  {
   "cell_type": "code",
   "execution_count": null,
   "metadata": {},
   "outputs": [],
   "source": []
  },
  {
   "cell_type": "markdown",
   "metadata": {},
   "source": [
    "# Loading data"
   ]
  },
  {
   "cell_type": "code",
   "execution_count": 12,
   "metadata": {},
   "outputs": [
    {
     "name": "stdout",
     "output_type": "stream",
     "text": [
      "CPU times: user 3.83 ms, sys: 0 ns, total: 3.83 ms\n",
      "Wall time: 5.74 ms\n"
     ]
    }
   ],
   "source": [
    "%%time\n",
    "# data_files = glob.glob('../data/stats_2019????.csv')\n",
    "data_files = (\n",
    "    glob.glob('../data/spaced-algorithms/*.csv')\n",
    ")"
   ]
  },
  {
   "cell_type": "code",
   "execution_count": 13,
   "metadata": {},
   "outputs": [
    {
     "name": "stdout",
     "output_type": "stream",
     "text": [
      "There are 208 files.\n"
     ]
    }
   ],
   "source": [
    "print('There are {} files.'.format(len(data_files)))"
   ]
  },
  {
   "cell_type": "code",
   "execution_count": null,
   "metadata": {},
   "outputs": [],
   "source": []
  },
  {
   "cell_type": "code",
   "execution_count": null,
   "metadata": {},
   "outputs": [],
   "source": []
  },
  {
   "cell_type": "code",
   "execution_count": 15,
   "metadata": {},
   "outputs": [
    {
     "name": "stdout",
     "output_type": "stream",
     "text": [
      "CPU times: user 9.8 s, sys: 6.78 s, total: 16.6 s\n",
      "Wall time: 1min 24s\n"
     ]
    }
   ],
   "source": [
    "%%time\n",
    "\n",
    "# Specifying the format is ~ 10x faster.\n",
    "swift_datetime_format = '%a %b %d %Y %H:%M:%S GMT+0000 (%Z)'\n",
    "\n",
    "def _worker_read_csv(filename):\n",
    "    df_tmp = pd.read_csv(filename)\n",
    "    df_tmp.datecreated = pd.to_datetime(df_tmp.datecreated, \n",
    "                                        format=swift_datetime_format)\n",
    "    df_tmp.dateinstallation = pd.to_datetime(df_tmp.dateinstallation, \n",
    "                                             format=swift_datetime_format)\n",
    "    return df_tmp\n",
    "\n",
    "with MP.Pool() as pool:\n",
    "    df = pd.concat(pool.map(_worker_read_csv, data_files))\n",
    "\n",
    "# df = pd.concat([pd.read_csv(f) for f in data_files])\n",
    "# df.datecreated = pd.to_datetime(df.datecreated)\n",
    "# df.dateinstallation = pd.to_datetime(df.dateinstallation)"
   ]
  },
  {
   "cell_type": "code",
   "execution_count": null,
   "metadata": {},
   "outputs": [],
   "source": []
  },
  {
   "cell_type": "code",
   "execution_count": null,
   "metadata": {},
   "outputs": [],
   "source": []
  },
  {
   "cell_type": "code",
   "execution_count": null,
   "metadata": {},
   "outputs": [],
   "source": []
  },
  {
   "cell_type": "code",
   "execution_count": null,
   "metadata": {},
   "outputs": [],
   "source": []
  },
  {
   "cell_type": "markdown",
   "metadata": {},
   "source": [
    "# Basic stats"
   ]
  },
  {
   "cell_type": "code",
   "execution_count": 16,
   "metadata": {},
   "outputs": [
    {
     "name": "stdout",
     "output_type": "stream",
     "text": [
      "Number of unique question:  1917\n"
     ]
    }
   ],
   "source": [
    "print('Number of unique question: ', df.question.nunique())"
   ]
  },
  {
   "cell_type": "code",
   "execution_count": null,
   "metadata": {},
   "outputs": [],
   "source": []
  },
  {
   "cell_type": "code",
   "execution_count": 17,
   "metadata": {},
   "outputs": [
    {
     "data": {
      "text/plain": [
       "smart              9953900\n",
       "random             3487883\n",
       "spaced             3309270\n",
       "smartdifficulty      11714\n",
       "Name: algorithm, dtype: int64"
      ]
     },
     "execution_count": 17,
     "metadata": {},
     "output_type": "execute_result"
    }
   ],
   "source": [
    "# Algorithms used\n",
    "df.algorithm.value_counts()"
   ]
  },
  {
   "cell_type": "code",
   "execution_count": null,
   "metadata": {},
   "outputs": [],
   "source": []
  },
  {
   "cell_type": "code",
   "execution_count": null,
   "metadata": {},
   "outputs": [],
   "source": []
  },
  {
   "cell_type": "code",
   "execution_count": 18,
   "metadata": {},
   "outputs": [
    {
     "data": {
      "text/plain": [
       "50698"
      ]
     },
     "execution_count": 18,
     "metadata": {},
     "output_type": "execute_result"
    }
   ],
   "source": [
    "df.user.nunique()"
   ]
  },
  {
   "cell_type": "code",
   "execution_count": null,
   "metadata": {},
   "outputs": [],
   "source": []
  },
  {
   "cell_type": "code",
   "execution_count": 19,
   "metadata": {},
   "outputs": [
    {
     "name": "stdout",
     "output_type": "stream",
     "text": [
      "Number of unique (category, question):  8842\n"
     ]
    }
   ],
   "source": [
    "print('Number of unique (category, question): ',\n",
    "      (df.category.astype(str) + \":\" + df.question).nunique())"
   ]
  },
  {
   "cell_type": "code",
   "execution_count": null,
   "metadata": {},
   "outputs": [],
   "source": []
  },
  {
   "cell_type": "code",
   "execution_count": 20,
   "metadata": {},
   "outputs": [
    {
     "name": "stdout",
     "output_type": "stream",
     "text": [
      "Number of unique (set, question):  19352\n"
     ]
    }
   ],
   "source": [
    "print('Number of unique (set, question): ',\n",
    "      (df.set + \":\" + df.question).nunique())"
   ]
  },
  {
   "cell_type": "code",
   "execution_count": null,
   "metadata": {},
   "outputs": [],
   "source": []
  },
  {
   "cell_type": "markdown",
   "metadata": {},
   "source": [
    "Most questions are answered correctly:"
   ]
  },
  {
   "cell_type": "code",
   "execution_count": 22,
   "metadata": {},
   "outputs": [
    {
     "data": {
      "text/plain": [
       "1    12475145\n",
       "0     4287622\n",
       "Name: correct, dtype: int64"
      ]
     },
     "execution_count": 22,
     "metadata": {},
     "output_type": "execute_result"
    }
   ],
   "source": [
    "df.correct.value_counts()"
   ]
  },
  {
   "cell_type": "code",
   "execution_count": 23,
   "metadata": {},
   "outputs": [
    {
     "name": "stdout",
     "output_type": "stream",
     "text": [
      "74.42% of answers are correct.\n"
     ]
    }
   ],
   "source": [
    "print('{:.2f}% of answers are correct.'\n",
    "      .format(100 * (df.correct == 1).sum() / df.correct.shape[0]))"
   ]
  },
  {
   "cell_type": "code",
   "execution_count": 24,
   "metadata": {},
   "outputs": [
    {
     "data": {
      "text/plain": [
       "algorithm\n",
       "random             0.741066\n",
       "smart              0.747723\n",
       "smartdifficulty    0.771470\n",
       "spaced             0.736900\n",
       "dtype: float64"
      ]
     },
     "execution_count": 24,
     "metadata": {},
     "output_type": "execute_result"
    }
   ],
   "source": [
    "algo_group = df.groupby('algorithm')\n",
    "algo_group.correct.sum() / algo_group.size()"
   ]
  },
  {
   "cell_type": "code",
   "execution_count": null,
   "metadata": {},
   "outputs": [],
   "source": []
  },
  {
   "cell_type": "code",
   "execution_count": null,
   "metadata": {},
   "outputs": [],
   "source": []
  },
  {
   "cell_type": "code",
   "execution_count": 25,
   "metadata": {},
   "outputs": [],
   "source": [
    "question_correct_df = df.groupby('question').correct.value_counts().unstack().fillna(0)\n",
    "question_correct_df['total'] = question_correct_df[0] + question_correct_df[1]\n",
    "question_correct_df['correct_rate'] = question_correct_df[1] / question_correct_df['total']"
   ]
  },
  {
   "cell_type": "code",
   "execution_count": 26,
   "metadata": {},
   "outputs": [],
   "source": [
    "question_difficulty = df.groupby('question').difficulty.first()"
   ]
  },
  {
   "cell_type": "code",
   "execution_count": 27,
   "metadata": {},
   "outputs": [],
   "source": [
    "question_correct_df['difficulty'] = question_difficulty[question_correct_df.index]"
   ]
  },
  {
   "cell_type": "code",
   "execution_count": 28,
   "metadata": {
    "scrolled": true
   },
   "outputs": [
    {
     "name": "stdout",
     "output_type": "stream",
     "text": [
      "Most frequent - 1917/1917, correlation = 0.46\n",
      "Most frequent - 1814/1917, correlation = 0.53\n",
      "Most frequent - 1751/1917, correlation = 0.56\n",
      "Most frequent - 1638/1917, correlation = 0.59\n",
      "Most frequent - 1546/1917, correlation = 0.61\n",
      "Most frequent - 1435/1917, correlation = 0.63\n"
     ]
    }
   ],
   "source": [
    "for ii in [0, 10, 25, 50, 75, 100]:  # Newer\n",
    "    idx = question_correct_df.total >= ii\n",
    "    crr = pearsonr(question_correct_df.correct_rate[idx], question_correct_df.difficulty[idx])\n",
    "    print('Most frequent - {}/{}, correlation = {:0.2f}'\n",
    "          .format(idx.sum(), idx.shape[0], crr[0]))"
   ]
  },
  {
   "cell_type": "code",
   "execution_count": null,
   "metadata": {},
   "outputs": [],
   "source": []
  },
  {
   "cell_type": "markdown",
   "metadata": {
    "collapsed": true
   },
   "source": [
    "# Transferring to HLR format"
   ]
  },
  {
   "cell_type": "code",
   "execution_count": null,
   "metadata": {},
   "outputs": [],
   "source": []
  },
  {
   "cell_type": "code",
   "execution_count": 29,
   "metadata": {},
   "outputs": [
    {
     "name": "stdout",
     "output_type": "stream",
     "text": [
      "CPU times: user 15.7 s, sys: 392 ms, total: 16.1 s\n",
      "Wall time: 16 s\n"
     ]
    }
   ],
   "source": [
    "def limit_duration(days, alpha, attempts_exact=None):\n",
    "def limit_duration(days, alpha, attempts_exact=None):\n",
    "    secs = days * 24 * 60 * 60\n",
    "    lim = attempt_duration[(secs * (1 - alpha) < attempt_duration.timestamp) & (attempt_duration.timestamp < secs * (1 + alpha))]\n",
    "    if attempts_exact is not None:\n",
    "        lim = lim[lim.attempts == attempts_exact]\n",
    "    \n",
    "    lim = lim.reset_index()\n",
    "    valid_tuples = set((lim.lexeme_id + '/' + lim.user_id).values)\n",
    "    df_dur = df2[(df2.lexeme_id + '/' + df2.user_id).isin(valid_tuples)]\n",
    "    return df_dur\n",
    "\n",
    "%%time\n",
    "multi_algo_users = df.groupby('user').algorithm.nunique()\n",
    "ignore_users = set(multi_algo_users[multi_algo_users > 1].reset_index().user.tolist())"
   ]
  },
  {
   "cell_type": "code",
   "execution_count": null,
   "metadata": {},
   "outputs": [],
   "source": []
  },
  {
   "cell_type": "code",
   "execution_count": null,
   "metadata": {},
   "outputs": [],
   "source": []
  },
  {
   "cell_type": "code",
   "execution_count": 30,
   "metadata": {},
   "outputs": [],
   "source": [
    "import numpy as np"
   ]
  },
  {
   "cell_type": "code",
   "execution_count": 31,
   "metadata": {},
   "outputs": [
    {
     "name": "stdout",
     "output_type": "stream",
     "text": [
      "CPU times: user 18.6 s, sys: 6.33 s, total: 24.9 s\n",
      "Wall time: 24.8 s\n"
     ]
    }
   ],
   "source": [
    "%%time\n",
    "df2 = (\n",
    "    df[~df.user.isin(ignore_users)]\n",
    "    .rename(columns={\n",
    "        'correct': 'p_recall', \n",
    "        'datecreated': 'timestamp',\n",
    "        'user': 'user_id',\n",
    "        'question': 'lexeme_id',\n",
    "        'count': 'history_seen',\n",
    "        'language': 'learning_language'\n",
    "    })\n",
    ")\n",
    "# # TODO: This does not sanity check, or else countsequence != correct - wrong\n",
    "# This was shown to be incorrect.\n",
    "# df2['history_correct'] = (df2['countsequence'] + df2['history_seen']) / 2\n",
    "df2['ui_language'] = 'de'\n",
    "df2['lexeme_string'] = df2['lexeme_id']\n",
    "df2['session_seen'] = 1\n",
    "df2['session_correct'] = df2['p_recall']\n",
    "df2['timestamp'] = df2['timestamp'].values.astype(np.int64) // 10 ** 9\n",
    "df2.sort_values(by=['user_id', 'lexeme_id', 'timestamp'], inplace=True)"
   ]
  },
  {
   "cell_type": "code",
   "execution_count": 32,
   "metadata": {},
   "outputs": [
    {
     "name": "stdout",
     "output_type": "stream",
     "text": [
      "CPU times: user 53.6 ms, sys: 64.3 ms, total: 118 ms\n",
      "Wall time: 116 ms\n"
     ]
    }
   ],
   "source": [
    "%%time\n",
    "df2['delta'] = df2['timestamp'].diff()"
   ]
  },
  {
   "cell_type": "code",
   "execution_count": 33,
   "metadata": {},
   "outputs": [
    {
     "name": "stdout",
     "output_type": "stream",
     "text": [
      "CPU times: user 2.38 s, sys: 293 ms, total: 2.67 s\n",
      "Wall time: 2.65 s\n"
     ]
    }
   ],
   "source": [
    "%%time\n",
    "df2.loc[(df2.lexeme_id != df2.lexeme_id.shift()) | (df2.user_id != df2.user_id.shift()), 'delta'] = None"
   ]
  },
  {
   "cell_type": "code",
   "execution_count": null,
   "metadata": {},
   "outputs": [],
   "source": []
  },
  {
   "cell_type": "code",
   "execution_count": 34,
   "metadata": {},
   "outputs": [
    {
     "name": "stdout",
     "output_type": "stream",
     "text": [
      "CPU times: user 14.8 s, sys: 17 s, total: 31.8 s\n",
      "Wall time: 31.8 s\n"
     ]
    }
   ],
   "source": [
    "%%time\n",
    "history_correct = df2.p_recall.cumsum()\n",
    "history_correct_correction = history_correct.copy()\n",
    "history_correct_correction[:] = np.nan\n",
    "history_correct_correction[df2.delta.isnull()] = history_correct[df2.delta.isnull()] - df2.p_recall[df2.delta.isnull()]\n",
    "history_correct -= history_correct_correction.fillna(method='ffill')"
   ]
  },
  {
   "cell_type": "code",
   "execution_count": 35,
   "metadata": {},
   "outputs": [],
   "source": [
    "df2['history_correct'] = history_correct"
   ]
  },
  {
   "cell_type": "code",
   "execution_count": null,
   "metadata": {},
   "outputs": [],
   "source": []
  },
  {
   "cell_type": "code",
   "execution_count": 36,
   "metadata": {},
   "outputs": [],
   "source": [
    "df_grouped = df2.groupby(['user_id', 'lexeme_id']).timestamp.size()"
   ]
  },
  {
   "cell_type": "code",
   "execution_count": 37,
   "metadata": {},
   "outputs": [],
   "source": [
    "assert df2.delta.isnull().sum() == df_grouped.shape[0], \"Number of user_id, lexeme_id mismatch.\""
   ]
  },
  {
   "cell_type": "code",
   "execution_count": null,
   "metadata": {},
   "outputs": [],
   "source": []
  },
  {
   "cell_type": "code",
   "execution_count": 38,
   "metadata": {},
   "outputs": [
    {
     "name": "stdout",
     "output_type": "stream",
     "text": [
      "CPU times: user 21.5 s, sys: 1.94 s, total: 23.4 s\n",
      "Wall time: 23.4 s\n"
     ]
    }
   ],
   "source": [
    "%%time\n",
    "min_count = 1\n",
    "df_filtered = df_grouped[df_grouped >= min_count]\n",
    "idx_filtered = sorted({x[0] + '/' + x[1] for x in df_filtered.reset_index()[['user_id', 'lexeme_id']].values})\n",
    "df_user_lexeme = (df2.user_id + '/' + df2.lexeme_id).values.tolist()\n",
    "\n",
    "select_idx = [False] * len(df_user_lexeme)\n",
    "i, j = 0, 0\n",
    "while i < len(df_user_lexeme) and j < len(idx_filtered):\n",
    "    if df_user_lexeme[i] == idx_filtered[j]:\n",
    "        select_idx[i] = True\n",
    "        i += 1\n",
    "    elif df_user_lexeme[i] < idx_filtered[j]:\n",
    "        i += 1\n",
    "    elif df_user_lexeme[i] > idx_filtered[j]:\n",
    "        j += 1"
   ]
  },
  {
   "cell_type": "code",
   "execution_count": null,
   "metadata": {},
   "outputs": [],
   "source": []
  },
  {
   "cell_type": "code",
   "execution_count": null,
   "metadata": {},
   "outputs": [],
   "source": []
  },
  {
   "cell_type": "markdown",
   "metadata": {},
   "source": [
    "## Empirical forgetting rate"
   ]
  },
  {
   "cell_type": "code",
   "execution_count": 39,
   "metadata": {},
   "outputs": [
    {
     "name": "stdout",
     "output_type": "stream",
     "text": [
      "CPU times: user 15.3 s, sys: 1.45 s, total: 16.7 s\n",
      "Wall time: 16.7 s\n"
     ]
    }
   ],
   "source": [
    "%%time\n",
    "duration_grp = df2.groupby(['lexeme_id', 'user_id'])\n",
    "duration_df = (duration_grp.timestamp.last() - duration_grp.timestamp.first()).to_frame('timestamp')\n",
    "attempts_df = duration_grp.size().to_frame('attempts')\n",
    "attempt_duration = duration_df.join(attempts_df)"
   ]
  },
  {
   "cell_type": "code",
   "execution_count": null,
   "metadata": {},
   "outputs": [],
   "source": []
  },
  {
   "cell_type": "code",
   "execution_count": 40,
   "metadata": {},
   "outputs": [],
   "source": [
    "long_term_users = set(duration_df[duration_df.timestamp > 3 * (1 - 0.25) * 86400].reset_index().user_id.unique().tolist())"
   ]
  },
  {
   "cell_type": "code",
   "execution_count": null,
   "metadata": {},
   "outputs": [],
   "source": []
  },
  {
   "cell_type": "code",
   "execution_count": 41,
   "metadata": {},
   "outputs": [],
   "source": [
    "def limit_duration(days, alpha, attempts_exact=None):\n",
    "    secs = days * 24 * 60 * 60\n",
    "    lim = attempt_duration[(secs * (1 - alpha) < attempt_duration.timestamp) & (attempt_duration.timestamp < secs * (1 + alpha))]\n",
    "    if attempts_exact is not None:\n",
    "        lim = lim[lim.attempts == attempts_exact]\n",
    "    \n",
    "    lim = lim.reset_index()\n",
    "    valid_tuples = set((lim.lexeme_id + '/' + lim.user_id).values)\n",
    "    df_dur = df2[(df2.lexeme_id + '/' + df2.user_id).isin(valid_tuples)]\n",
    "    return df_dur"
   ]
  },
  {
   "cell_type": "code",
   "execution_count": null,
   "metadata": {},
   "outputs": [],
   "source": []
  },
  {
   "cell_type": "code",
   "execution_count": 42,
   "metadata": {},
   "outputs": [
    {
     "name": "stdout",
     "output_type": "stream",
     "text": [
      "CPU times: user 32.2 s, sys: 5.07 s, total: 37.3 s\n",
      "Wall time: 37.2 s\n"
     ]
    },
    {
     "name": "stderr",
     "output_type": "stream",
     "text": [
      "/home/utkarshu/miniconda3/lib/python3.7/site-packages/ipykernel_launcher.py:8: RuntimeWarning: divide by zero encountered in log\n",
      "  \n"
     ]
    }
   ],
   "source": [
    "%%time\n",
    "lexeme_init_grp = df2.sort_values('timestamp').groupby(['lexeme_id', 'user_id'])\n",
    "lexeme_initial = lexeme_init_grp.nth(2)\n",
    "lexeme_first = lexeme_init_grp.nth(1)\n",
    "lexeme_first_delta = (lexeme_initial.timestamp - lexeme_first.timestamp).dropna().to_frame('t_diff').reset_index()\n",
    "lexeme_initial = lexeme_initial.reset_index()\n",
    "\n",
    "lexeme_initial_m = lexeme_initial.groupby('lexeme_id').p_recall.mean()\n",
    "lexeme_initial['emp_n0'] = -np.log(lexeme_initial_m.loc[lexeme_initial.lexeme_id].values) / (lexeme_first_delta.t_diff.values / (24 * 60 * 60))\n",
    "lexeme_initial_emp_n0 = lexeme_initial.groupby('lexeme_id').emp_n0.mean()"
   ]
  },
  {
   "cell_type": "code",
   "execution_count": 48,
   "metadata": {},
   "outputs": [
    {
     "name": "stdout",
     "output_type": "stream",
     "text": [
      "CPU times: user 644 ms, sys: 415 ms, total: 1.06 s\n",
      "Wall time: 1.06 s\n"
     ]
    }
   ],
   "source": [
    "%%time\n",
    "lexeme_user_initial = lexeme_initial.copy()\n",
    "lexeme_user_initial['user_lexeme'] = lexeme_user_initial['user_id'] + '/' + lexeme_user_initial['lexeme_id']\n",
    "# (- np.log(max(0.01, min(0.99, first_session['p_recall'] + 1e-10))) / (first_session['delta_scaled'] + 0.1))\n",
    "lexeme_user_initial['emp_n0'] = (\n",
    "    - np.log(np.maximum(0.001, np.minimum(0.999, lexeme_user_initial.p_recall.values.squeeze()))) /\n",
    "    (lexeme_first_delta.t_diff.values / (24 * 60 * 60))\n",
    ")\n",
    "lexeme_user_initial = lexeme_user_initial.set_index('user_lexeme')\n",
    "lexeme_emp_n0 = lexeme_user_initial.groupby('lexeme_id').emp_n0.mean()"
   ]
  },
  {
   "cell_type": "code",
   "execution_count": null,
   "metadata": {},
   "outputs": [],
   "source": []
  },
  {
   "cell_type": "code",
   "execution_count": 49,
   "metadata": {},
   "outputs": [],
   "source": [
    "from scipy.stats import mannwhitneyu\n",
    "\n",
    "NORM_BY_INIT_N0 = True\n",
    "P_MIN, P_MAX = 0.01, 0.99\n",
    "\n",
    "pm_frac = 0.25\n",
    "\n",
    "import warnings\n",
    "\n",
    "def _empirical_n_worker(params):\n",
    "    days, N = params\n",
    "    grp = limit_duration(days=days, alpha=pm_frac, attempts_exact=None).sort_values('timestamp').groupby(['lexeme_id', 'user_id'])\n",
    "    nth = grp.nth(N)\n",
    "    n_1th = grp.nth(N - 1)\n",
    "    delta = (nth.timestamp - n_1th.timestamp).dropna().to_frame('t_diff').reset_index()\n",
    "    nth = nth.reset_index()\n",
    "    \n",
    "    lexeme_emp_m = nth.groupby('lexeme_id').p_recall.mean()\n",
    "    \n",
    "    with warnings.catch_warnings():\n",
    "        warnings.simplefilter('ignore')\n",
    "        # (- np.log(max(0.01, min(0.99, first_session['p_recall'] + 1e-10))) / (first_session['delta_scaled'] + 0.1))\n",
    "        nth['emp_n'] = -np.log(np.maximum(P_MIN, np.minimum(P_MAX, nth['p_recall']))) / (delta.t_diff.values / (24 * 60 * 60))\n",
    "        if NORM_BY_INIT_N0:\n",
    "            nth['emp_n'] /= lexeme_emp_n0.loc[nth.lexeme_id].values\n",
    "        \n",
    "    ssig = {}\n",
    "    try:\n",
    "        for alg1, alg2 in [('smart', 'random'), ('spaced', 'random'), ('spaced', 'smart')]:\n",
    "            ssig[(alg1, alg2)] = mannwhitneyu(nth.emp_n[nth.algorithm == alg1], nth.emp_n[nth.algorithm == alg2])\n",
    "            \n",
    "        desc = (\n",
    "            nth\n",
    "            .groupby('algorithm')\n",
    "            .emp_n\n",
    "            .describe()\n",
    "        )\n",
    "    except Exception:\n",
    "        desc = None\n",
    "    \n",
    "    valid_lexeme_num = nth.lexeme_id.nunique()\n",
    "    return days, N, valid_lexeme_num, desc, ssig"
   ]
  },
  {
   "cell_type": "code",
   "execution_count": 50,
   "metadata": {},
   "outputs": [
    {
     "data": {
      "text/plain": [
       "(4,\n",
       " 3,\n",
       " 1412,\n",
       "              count      mean        std           min       25%       50%  \\\n",
       " algorithm                                                                   \n",
       " random      6839.0  2.287088  57.625193  4.002687e-07  0.000070  0.001178   \n",
       " smart      21861.0  0.793326  12.103820  3.149857e-07  0.000085  0.000881   \n",
       " spaced      5673.0  0.987116  22.062186  2.938905e-07  0.000060  0.000386   \n",
       " \n",
       "                 75%          max  \n",
       " algorithm                         \n",
       " random     0.018865  4022.440163  \n",
       " smart      0.014536   888.955036  \n",
       " spaced     0.011157  1498.676413  ,\n",
       " {('smart',\n",
       "   'random'): MannwhitneyuResult(statistic=73899881.0, pvalue=0.07667299522108814),\n",
       "  ('spaced',\n",
       "   'random'): MannwhitneyuResult(statistic=17761437.0, pvalue=1.9660515259386194e-16),\n",
       "  ('spaced',\n",
       "   'smart'): MannwhitneyuResult(statistic=57143055.5, pvalue=3.7167278539229464e-20)})"
      ]
     },
     "execution_count": 50,
     "metadata": {},
     "output_type": "execute_result"
    }
   ],
   "source": [
    "_empirical_n_worker((4, 3))"
   ]
  },
  {
   "cell_type": "code",
   "execution_count": null,
   "metadata": {},
   "outputs": [],
   "source": []
  },
  {
   "cell_type": "code",
   "execution_count": 51,
   "metadata": {},
   "outputs": [
    {
     "name": "stdout",
     "output_type": "stream",
     "text": [
      "CPU times: user 63.4 ms, sys: 8.27 s, total: 8.34 s\n",
      "Wall time: 19.1 s\n"
     ]
    }
   ],
   "source": [
    "%%time\n",
    "lexeme_data_2 = []\n",
    "P_VALUE = 0.05\n",
    "\n",
    "with MP.Pool() as pool:\n",
    "    for days, N, valid_lexeme_num, desc, ssig in pool.map(\n",
    "        _empirical_n_worker,\n",
    "        [(days, N) for days in [3, 5, 9] for N in range(3, 9)]\n",
    "    ):\n",
    "        if desc is not None:\n",
    "            lexeme_data_2.append({\n",
    "                'N': N,\n",
    "                'days': days,\n",
    "                'valid_lexeme_num': valid_lexeme_num,\n",
    "                'smart_random_sig': ssig[('smart', 'random')].pvalue < P_VALUE,\n",
    "                'spaced_smart_sig': ssig[('spaced', 'smart')].pvalue < P_VALUE,\n",
    "                'spaced_random_sig': ssig[('spaced', 'random')].pvalue < P_VALUE,\n",
    "            })\n",
    "            \n",
    "            for alg in ['smart', 'random', 'spaced']:\n",
    "                for field in ['count', '25%', '50%', '75%', 'mean']:\n",
    "                    lexeme_data_2[-1][f'{alg}_{field}'] = desc[field][alg]"
   ]
  },
  {
   "cell_type": "code",
   "execution_count": 55,
   "metadata": {},
   "outputs": [],
   "source": [
    "analysis_df_2 = pd.DataFrame(lexeme_data_2)"
   ]
  },
  {
   "cell_type": "code",
   "execution_count": null,
   "metadata": {},
   "outputs": [],
   "source": []
  },
  {
   "cell_type": "code",
   "execution_count": 57,
   "metadata": {},
   "outputs": [
    {
     "data": {
      "text/html": [
       "<div>\n",
       "<style scoped>\n",
       "    .dataframe tbody tr th:only-of-type {\n",
       "        vertical-align: middle;\n",
       "    }\n",
       "\n",
       "    .dataframe tbody tr th {\n",
       "        vertical-align: top;\n",
       "    }\n",
       "\n",
       "    .dataframe thead th {\n",
       "        text-align: right;\n",
       "    }\n",
       "</style>\n",
       "<table border=\"1\" class=\"dataframe\">\n",
       "  <thead>\n",
       "    <tr style=\"text-align: right;\">\n",
       "      <th></th>\n",
       "      <th>N</th>\n",
       "      <th>days</th>\n",
       "      <th>random_25%</th>\n",
       "      <th>random_50%</th>\n",
       "      <th>random_75%</th>\n",
       "      <th>random_count</th>\n",
       "      <th>random_mean</th>\n",
       "      <th>smart_25%</th>\n",
       "      <th>smart_50%</th>\n",
       "      <th>smart_75%</th>\n",
       "      <th>...</th>\n",
       "      <th>smart_mean</th>\n",
       "      <th>smart_random_sig</th>\n",
       "      <th>spaced_25%</th>\n",
       "      <th>spaced_50%</th>\n",
       "      <th>spaced_75%</th>\n",
       "      <th>spaced_count</th>\n",
       "      <th>spaced_mean</th>\n",
       "      <th>spaced_random_sig</th>\n",
       "      <th>spaced_smart_sig</th>\n",
       "      <th>valid_lexeme_num</th>\n",
       "    </tr>\n",
       "  </thead>\n",
       "  <tbody>\n",
       "    <tr>\n",
       "      <th>0</th>\n",
       "      <td>3</td>\n",
       "      <td>3</td>\n",
       "      <td>0.000093</td>\n",
       "      <td>0.001543</td>\n",
       "      <td>0.023854</td>\n",
       "      <td>5552.0</td>\n",
       "      <td>2.577312</td>\n",
       "      <td>0.000107</td>\n",
       "      <td>0.001171</td>\n",
       "      <td>0.017670</td>\n",
       "      <td>...</td>\n",
       "      <td>0.883152</td>\n",
       "      <td>False</td>\n",
       "      <td>0.000087</td>\n",
       "      <td>0.000574</td>\n",
       "      <td>0.014922</td>\n",
       "      <td>4027.0</td>\n",
       "      <td>1.084353</td>\n",
       "      <td>True</td>\n",
       "      <td>True</td>\n",
       "      <td>1399</td>\n",
       "    </tr>\n",
       "    <tr>\n",
       "      <th>1</th>\n",
       "      <td>4</td>\n",
       "      <td>3</td>\n",
       "      <td>0.000127</td>\n",
       "      <td>0.002279</td>\n",
       "      <td>0.033637</td>\n",
       "      <td>2873.0</td>\n",
       "      <td>5.685223</td>\n",
       "      <td>0.000174</td>\n",
       "      <td>0.002701</td>\n",
       "      <td>0.027223</td>\n",
       "      <td>...</td>\n",
       "      <td>1.103075</td>\n",
       "      <td>False</td>\n",
       "      <td>0.000093</td>\n",
       "      <td>0.000718</td>\n",
       "      <td>0.024262</td>\n",
       "      <td>1854.0</td>\n",
       "      <td>1.787792</td>\n",
       "      <td>True</td>\n",
       "      <td>True</td>\n",
       "      <td>1300</td>\n",
       "    </tr>\n",
       "    <tr>\n",
       "      <th>2</th>\n",
       "      <td>5</td>\n",
       "      <td>3</td>\n",
       "      <td>0.000156</td>\n",
       "      <td>0.003294</td>\n",
       "      <td>0.040676</td>\n",
       "      <td>1516.0</td>\n",
       "      <td>11.358232</td>\n",
       "      <td>0.000264</td>\n",
       "      <td>0.003291</td>\n",
       "      <td>0.030462</td>\n",
       "      <td>...</td>\n",
       "      <td>22.678956</td>\n",
       "      <td>False</td>\n",
       "      <td>0.000134</td>\n",
       "      <td>0.001781</td>\n",
       "      <td>0.031117</td>\n",
       "      <td>998.0</td>\n",
       "      <td>4.491595</td>\n",
       "      <td>True</td>\n",
       "      <td>True</td>\n",
       "      <td>1186</td>\n",
       "    </tr>\n",
       "    <tr>\n",
       "      <th>3</th>\n",
       "      <td>6</td>\n",
       "      <td>3</td>\n",
       "      <td>0.000299</td>\n",
       "      <td>0.005259</td>\n",
       "      <td>0.034898</td>\n",
       "      <td>892.0</td>\n",
       "      <td>15.896397</td>\n",
       "      <td>0.000327</td>\n",
       "      <td>0.003010</td>\n",
       "      <td>0.028800</td>\n",
       "      <td>...</td>\n",
       "      <td>1.404616</td>\n",
       "      <td>False</td>\n",
       "      <td>0.000227</td>\n",
       "      <td>0.005325</td>\n",
       "      <td>0.047645</td>\n",
       "      <td>579.0</td>\n",
       "      <td>1.125692</td>\n",
       "      <td>False</td>\n",
       "      <td>False</td>\n",
       "      <td>1027</td>\n",
       "    </tr>\n",
       "    <tr>\n",
       "      <th>4</th>\n",
       "      <td>7</td>\n",
       "      <td>3</td>\n",
       "      <td>0.000210</td>\n",
       "      <td>0.005077</td>\n",
       "      <td>0.033956</td>\n",
       "      <td>535.0</td>\n",
       "      <td>5.298718</td>\n",
       "      <td>0.000194</td>\n",
       "      <td>0.001790</td>\n",
       "      <td>0.022945</td>\n",
       "      <td>...</td>\n",
       "      <td>1.603833</td>\n",
       "      <td>True</td>\n",
       "      <td>0.000362</td>\n",
       "      <td>0.006338</td>\n",
       "      <td>0.031722</td>\n",
       "      <td>392.0</td>\n",
       "      <td>14.198261</td>\n",
       "      <td>False</td>\n",
       "      <td>True</td>\n",
       "      <td>904</td>\n",
       "    </tr>\n",
       "    <tr>\n",
       "      <th>5</th>\n",
       "      <td>8</td>\n",
       "      <td>3</td>\n",
       "      <td>0.000469</td>\n",
       "      <td>0.006638</td>\n",
       "      <td>0.058993</td>\n",
       "      <td>336.0</td>\n",
       "      <td>2.328838</td>\n",
       "      <td>0.000679</td>\n",
       "      <td>0.004328</td>\n",
       "      <td>0.029561</td>\n",
       "      <td>...</td>\n",
       "      <td>1.637817</td>\n",
       "      <td>False</td>\n",
       "      <td>0.000334</td>\n",
       "      <td>0.006924</td>\n",
       "      <td>0.032089</td>\n",
       "      <td>256.0</td>\n",
       "      <td>1.244032</td>\n",
       "      <td>False</td>\n",
       "      <td>False</td>\n",
       "      <td>785</td>\n",
       "    </tr>\n",
       "    <tr>\n",
       "      <th>6</th>\n",
       "      <td>3</td>\n",
       "      <td>5</td>\n",
       "      <td>0.000064</td>\n",
       "      <td>0.001046</td>\n",
       "      <td>0.015327</td>\n",
       "      <td>8349.0</td>\n",
       "      <td>2.321260</td>\n",
       "      <td>0.000071</td>\n",
       "      <td>0.000802</td>\n",
       "      <td>0.013387</td>\n",
       "      <td>...</td>\n",
       "      <td>0.797900</td>\n",
       "      <td>False</td>\n",
       "      <td>0.000054</td>\n",
       "      <td>0.000418</td>\n",
       "      <td>0.011836</td>\n",
       "      <td>6232.0</td>\n",
       "      <td>2.463230</td>\n",
       "      <td>True</td>\n",
       "      <td>True</td>\n",
       "      <td>1398</td>\n",
       "    </tr>\n",
       "    <tr>\n",
       "      <th>7</th>\n",
       "      <td>4</td>\n",
       "      <td>5</td>\n",
       "      <td>0.000116</td>\n",
       "      <td>0.001339</td>\n",
       "      <td>0.019731</td>\n",
       "      <td>4402.0</td>\n",
       "      <td>14.452003</td>\n",
       "      <td>0.000101</td>\n",
       "      <td>0.001200</td>\n",
       "      <td>0.016647</td>\n",
       "      <td>...</td>\n",
       "      <td>0.955198</td>\n",
       "      <td>True</td>\n",
       "      <td>0.000072</td>\n",
       "      <td>0.000660</td>\n",
       "      <td>0.012875</td>\n",
       "      <td>3455.0</td>\n",
       "      <td>0.791235</td>\n",
       "      <td>True</td>\n",
       "      <td>True</td>\n",
       "      <td>1317</td>\n",
       "    </tr>\n",
       "    <tr>\n",
       "      <th>8</th>\n",
       "      <td>5</td>\n",
       "      <td>5</td>\n",
       "      <td>0.000101</td>\n",
       "      <td>0.001855</td>\n",
       "      <td>0.023929</td>\n",
       "      <td>2589.0</td>\n",
       "      <td>3.746675</td>\n",
       "      <td>0.000142</td>\n",
       "      <td>0.001511</td>\n",
       "      <td>0.019726</td>\n",
       "      <td>...</td>\n",
       "      <td>1.259105</td>\n",
       "      <td>False</td>\n",
       "      <td>0.000084</td>\n",
       "      <td>0.000974</td>\n",
       "      <td>0.016564</td>\n",
       "      <td>2210.0</td>\n",
       "      <td>1.010344</td>\n",
       "      <td>True</td>\n",
       "      <td>True</td>\n",
       "      <td>1227</td>\n",
       "    </tr>\n",
       "    <tr>\n",
       "      <th>9</th>\n",
       "      <td>6</td>\n",
       "      <td>5</td>\n",
       "      <td>0.000170</td>\n",
       "      <td>0.001987</td>\n",
       "      <td>0.025605</td>\n",
       "      <td>1622.0</td>\n",
       "      <td>9.332499</td>\n",
       "      <td>0.000188</td>\n",
       "      <td>0.002405</td>\n",
       "      <td>0.024929</td>\n",
       "      <td>...</td>\n",
       "      <td>1.702087</td>\n",
       "      <td>False</td>\n",
       "      <td>0.000126</td>\n",
       "      <td>0.001301</td>\n",
       "      <td>0.021900</td>\n",
       "      <td>1278.0</td>\n",
       "      <td>1.186451</td>\n",
       "      <td>True</td>\n",
       "      <td>True</td>\n",
       "      <td>1114</td>\n",
       "    </tr>\n",
       "    <tr>\n",
       "      <th>10</th>\n",
       "      <td>7</td>\n",
       "      <td>5</td>\n",
       "      <td>0.000196</td>\n",
       "      <td>0.004023</td>\n",
       "      <td>0.039301</td>\n",
       "      <td>988.0</td>\n",
       "      <td>4.778200</td>\n",
       "      <td>0.000231</td>\n",
       "      <td>0.002203</td>\n",
       "      <td>0.022899</td>\n",
       "      <td>...</td>\n",
       "      <td>1.348731</td>\n",
       "      <td>True</td>\n",
       "      <td>0.000137</td>\n",
       "      <td>0.001418</td>\n",
       "      <td>0.016737</td>\n",
       "      <td>911.0</td>\n",
       "      <td>0.540735</td>\n",
       "      <td>True</td>\n",
       "      <td>True</td>\n",
       "      <td>1013</td>\n",
       "    </tr>\n",
       "    <tr>\n",
       "      <th>11</th>\n",
       "      <td>8</td>\n",
       "      <td>5</td>\n",
       "      <td>0.000378</td>\n",
       "      <td>0.004456</td>\n",
       "      <td>0.049263</td>\n",
       "      <td>642.0</td>\n",
       "      <td>14.702382</td>\n",
       "      <td>0.000213</td>\n",
       "      <td>0.002319</td>\n",
       "      <td>0.021999</td>\n",
       "      <td>...</td>\n",
       "      <td>0.877746</td>\n",
       "      <td>True</td>\n",
       "      <td>0.000175</td>\n",
       "      <td>0.002142</td>\n",
       "      <td>0.020273</td>\n",
       "      <td>635.0</td>\n",
       "      <td>1.507416</td>\n",
       "      <td>True</td>\n",
       "      <td>False</td>\n",
       "      <td>919</td>\n",
       "    </tr>\n",
       "    <tr>\n",
       "      <th>12</th>\n",
       "      <td>3</td>\n",
       "      <td>9</td>\n",
       "      <td>0.000039</td>\n",
       "      <td>0.000495</td>\n",
       "      <td>0.010200</td>\n",
       "      <td>10699.0</td>\n",
       "      <td>1.139889</td>\n",
       "      <td>0.000042</td>\n",
       "      <td>0.000465</td>\n",
       "      <td>0.010026</td>\n",
       "      <td>...</td>\n",
       "      <td>9.222362</td>\n",
       "      <td>False</td>\n",
       "      <td>0.000036</td>\n",
       "      <td>0.000286</td>\n",
       "      <td>0.009819</td>\n",
       "      <td>6691.0</td>\n",
       "      <td>1.294480</td>\n",
       "      <td>True</td>\n",
       "      <td>True</td>\n",
       "      <td>1505</td>\n",
       "    </tr>\n",
       "    <tr>\n",
       "      <th>13</th>\n",
       "      <td>4</td>\n",
       "      <td>9</td>\n",
       "      <td>0.000055</td>\n",
       "      <td>0.000787</td>\n",
       "      <td>0.011799</td>\n",
       "      <td>6132.0</td>\n",
       "      <td>5.308501</td>\n",
       "      <td>0.000064</td>\n",
       "      <td>0.000750</td>\n",
       "      <td>0.013618</td>\n",
       "      <td>...</td>\n",
       "      <td>1.387634</td>\n",
       "      <td>True</td>\n",
       "      <td>0.000045</td>\n",
       "      <td>0.000568</td>\n",
       "      <td>0.013133</td>\n",
       "      <td>3831.0</td>\n",
       "      <td>1.276180</td>\n",
       "      <td>False</td>\n",
       "      <td>True</td>\n",
       "      <td>1436</td>\n",
       "    </tr>\n",
       "    <tr>\n",
       "      <th>14</th>\n",
       "      <td>5</td>\n",
       "      <td>9</td>\n",
       "      <td>0.000096</td>\n",
       "      <td>0.001272</td>\n",
       "      <td>0.014536</td>\n",
       "      <td>3629.0</td>\n",
       "      <td>12.902624</td>\n",
       "      <td>0.000081</td>\n",
       "      <td>0.000977</td>\n",
       "      <td>0.015600</td>\n",
       "      <td>...</td>\n",
       "      <td>1.676159</td>\n",
       "      <td>False</td>\n",
       "      <td>0.000060</td>\n",
       "      <td>0.000653</td>\n",
       "      <td>0.012991</td>\n",
       "      <td>2402.0</td>\n",
       "      <td>1.832423</td>\n",
       "      <td>True</td>\n",
       "      <td>True</td>\n",
       "      <td>1355</td>\n",
       "    </tr>\n",
       "    <tr>\n",
       "      <th>15</th>\n",
       "      <td>6</td>\n",
       "      <td>9</td>\n",
       "      <td>0.000106</td>\n",
       "      <td>0.001876</td>\n",
       "      <td>0.019302</td>\n",
       "      <td>2319.0</td>\n",
       "      <td>30.840351</td>\n",
       "      <td>0.000098</td>\n",
       "      <td>0.001330</td>\n",
       "      <td>0.016164</td>\n",
       "      <td>...</td>\n",
       "      <td>0.923783</td>\n",
       "      <td>True</td>\n",
       "      <td>0.000061</td>\n",
       "      <td>0.000778</td>\n",
       "      <td>0.013726</td>\n",
       "      <td>1616.0</td>\n",
       "      <td>3.547844</td>\n",
       "      <td>True</td>\n",
       "      <td>True</td>\n",
       "      <td>1252</td>\n",
       "    </tr>\n",
       "    <tr>\n",
       "      <th>16</th>\n",
       "      <td>7</td>\n",
       "      <td>9</td>\n",
       "      <td>0.000071</td>\n",
       "      <td>0.001394</td>\n",
       "      <td>0.020279</td>\n",
       "      <td>1482.0</td>\n",
       "      <td>31.417870</td>\n",
       "      <td>0.000133</td>\n",
       "      <td>0.002187</td>\n",
       "      <td>0.018012</td>\n",
       "      <td>...</td>\n",
       "      <td>1.096979</td>\n",
       "      <td>True</td>\n",
       "      <td>0.000081</td>\n",
       "      <td>0.001266</td>\n",
       "      <td>0.018063</td>\n",
       "      <td>953.0</td>\n",
       "      <td>6.350881</td>\n",
       "      <td>False</td>\n",
       "      <td>True</td>\n",
       "      <td>1133</td>\n",
       "    </tr>\n",
       "    <tr>\n",
       "      <th>17</th>\n",
       "      <td>8</td>\n",
       "      <td>9</td>\n",
       "      <td>0.000131</td>\n",
       "      <td>0.002653</td>\n",
       "      <td>0.021259</td>\n",
       "      <td>923.0</td>\n",
       "      <td>3.356459</td>\n",
       "      <td>0.000121</td>\n",
       "      <td>0.002378</td>\n",
       "      <td>0.020542</td>\n",
       "      <td>...</td>\n",
       "      <td>1.690089</td>\n",
       "      <td>False</td>\n",
       "      <td>0.000071</td>\n",
       "      <td>0.000859</td>\n",
       "      <td>0.015242</td>\n",
       "      <td>700.0</td>\n",
       "      <td>9.054886</td>\n",
       "      <td>True</td>\n",
       "      <td>True</td>\n",
       "      <td>995</td>\n",
       "    </tr>\n",
       "  </tbody>\n",
       "</table>\n",
       "<p>18 rows × 21 columns</p>\n",
       "</div>"
      ],
      "text/plain": [
       "    N  days  random_25%  random_50%  random_75%  random_count  random_mean  \\\n",
       "0   3     3    0.000093    0.001543    0.023854        5552.0     2.577312   \n",
       "1   4     3    0.000127    0.002279    0.033637        2873.0     5.685223   \n",
       "2   5     3    0.000156    0.003294    0.040676        1516.0    11.358232   \n",
       "3   6     3    0.000299    0.005259    0.034898         892.0    15.896397   \n",
       "4   7     3    0.000210    0.005077    0.033956         535.0     5.298718   \n",
       "5   8     3    0.000469    0.006638    0.058993         336.0     2.328838   \n",
       "6   3     5    0.000064    0.001046    0.015327        8349.0     2.321260   \n",
       "7   4     5    0.000116    0.001339    0.019731        4402.0    14.452003   \n",
       "8   5     5    0.000101    0.001855    0.023929        2589.0     3.746675   \n",
       "9   6     5    0.000170    0.001987    0.025605        1622.0     9.332499   \n",
       "10  7     5    0.000196    0.004023    0.039301         988.0     4.778200   \n",
       "11  8     5    0.000378    0.004456    0.049263         642.0    14.702382   \n",
       "12  3     9    0.000039    0.000495    0.010200       10699.0     1.139889   \n",
       "13  4     9    0.000055    0.000787    0.011799        6132.0     5.308501   \n",
       "14  5     9    0.000096    0.001272    0.014536        3629.0    12.902624   \n",
       "15  6     9    0.000106    0.001876    0.019302        2319.0    30.840351   \n",
       "16  7     9    0.000071    0.001394    0.020279        1482.0    31.417870   \n",
       "17  8     9    0.000131    0.002653    0.021259         923.0     3.356459   \n",
       "\n",
       "    smart_25%  smart_50%  smart_75%  ...  smart_mean  smart_random_sig  \\\n",
       "0    0.000107   0.001171   0.017670  ...    0.883152             False   \n",
       "1    0.000174   0.002701   0.027223  ...    1.103075             False   \n",
       "2    0.000264   0.003291   0.030462  ...   22.678956             False   \n",
       "3    0.000327   0.003010   0.028800  ...    1.404616             False   \n",
       "4    0.000194   0.001790   0.022945  ...    1.603833              True   \n",
       "5    0.000679   0.004328   0.029561  ...    1.637817             False   \n",
       "6    0.000071   0.000802   0.013387  ...    0.797900             False   \n",
       "7    0.000101   0.001200   0.016647  ...    0.955198              True   \n",
       "8    0.000142   0.001511   0.019726  ...    1.259105             False   \n",
       "9    0.000188   0.002405   0.024929  ...    1.702087             False   \n",
       "10   0.000231   0.002203   0.022899  ...    1.348731              True   \n",
       "11   0.000213   0.002319   0.021999  ...    0.877746              True   \n",
       "12   0.000042   0.000465   0.010026  ...    9.222362             False   \n",
       "13   0.000064   0.000750   0.013618  ...    1.387634              True   \n",
       "14   0.000081   0.000977   0.015600  ...    1.676159             False   \n",
       "15   0.000098   0.001330   0.016164  ...    0.923783              True   \n",
       "16   0.000133   0.002187   0.018012  ...    1.096979              True   \n",
       "17   0.000121   0.002378   0.020542  ...    1.690089             False   \n",
       "\n",
       "    spaced_25%  spaced_50%  spaced_75%  spaced_count  spaced_mean  \\\n",
       "0     0.000087    0.000574    0.014922        4027.0     1.084353   \n",
       "1     0.000093    0.000718    0.024262        1854.0     1.787792   \n",
       "2     0.000134    0.001781    0.031117         998.0     4.491595   \n",
       "3     0.000227    0.005325    0.047645         579.0     1.125692   \n",
       "4     0.000362    0.006338    0.031722         392.0    14.198261   \n",
       "5     0.000334    0.006924    0.032089         256.0     1.244032   \n",
       "6     0.000054    0.000418    0.011836        6232.0     2.463230   \n",
       "7     0.000072    0.000660    0.012875        3455.0     0.791235   \n",
       "8     0.000084    0.000974    0.016564        2210.0     1.010344   \n",
       "9     0.000126    0.001301    0.021900        1278.0     1.186451   \n",
       "10    0.000137    0.001418    0.016737         911.0     0.540735   \n",
       "11    0.000175    0.002142    0.020273         635.0     1.507416   \n",
       "12    0.000036    0.000286    0.009819        6691.0     1.294480   \n",
       "13    0.000045    0.000568    0.013133        3831.0     1.276180   \n",
       "14    0.000060    0.000653    0.012991        2402.0     1.832423   \n",
       "15    0.000061    0.000778    0.013726        1616.0     3.547844   \n",
       "16    0.000081    0.001266    0.018063         953.0     6.350881   \n",
       "17    0.000071    0.000859    0.015242         700.0     9.054886   \n",
       "\n",
       "    spaced_random_sig  spaced_smart_sig  valid_lexeme_num  \n",
       "0                True              True              1399  \n",
       "1                True              True              1300  \n",
       "2                True              True              1186  \n",
       "3               False             False              1027  \n",
       "4               False              True               904  \n",
       "5               False             False               785  \n",
       "6                True              True              1398  \n",
       "7                True              True              1317  \n",
       "8                True              True              1227  \n",
       "9                True              True              1114  \n",
       "10               True              True              1013  \n",
       "11               True             False               919  \n",
       "12               True              True              1505  \n",
       "13              False              True              1436  \n",
       "14               True              True              1355  \n",
       "15               True              True              1252  \n",
       "16              False              True              1133  \n",
       "17               True              True               995  \n",
       "\n",
       "[18 rows x 21 columns]"
      ]
     },
     "execution_count": 57,
     "metadata": {},
     "output_type": "execute_result"
    }
   ],
   "source": [
    "analysis_df_2"
   ]
  },
  {
   "cell_type": "code",
   "execution_count": null,
   "metadata": {},
   "outputs": [],
   "source": []
  },
  {
   "cell_type": "code",
   "execution_count": 59,
   "metadata": {},
   "outputs": [
    {
     "name": "stdout",
     "output_type": "stream",
     "text": [
      "spaced median empirical forgetting rate is better in 83.3% of the cases.\n"
     ]
    }
   ],
   "source": [
    "print(f\"spaced median empirical forgetting rate is better in {round(analysis_df_2[analysis_df_2['spaced_50%'] < analysis_df_2['smart_50%']].shape[0] / analysis_df_2.shape[0] * 100., 1)}% of the cases.\")"
   ]
  },
  {
   "cell_type": "code",
   "execution_count": 60,
   "metadata": {},
   "outputs": [
    {
     "data": {
      "text/plain": [
       "0.8333333333333334"
      ]
     },
     "execution_count": 60,
     "metadata": {},
     "output_type": "execute_result"
    }
   ],
   "source": [
    "analysis_df_2[(analysis_df_2['spaced_50%'] < analysis_df_2['random_50%'])].shape[0] / analysis_df_2.shape[0]"
   ]
  },
  {
   "cell_type": "code",
   "execution_count": 61,
   "metadata": {},
   "outputs": [
    {
     "data": {
      "text/plain": [
       "0.7222222222222222"
      ]
     },
     "execution_count": 61,
     "metadata": {},
     "output_type": "execute_result"
    }
   ],
   "source": [
    "analysis_df_2[(analysis_df_2['spaced_50%'] < analysis_df_2['random_50%']) & analysis_df_2.spaced_random_sig].shape[0] / analysis_df_2.shape[0]"
   ]
  },
  {
   "cell_type": "code",
   "execution_count": 62,
   "metadata": {},
   "outputs": [
    {
     "data": {
      "text/plain": [
       "0.8333333333333334"
      ]
     },
     "execution_count": 62,
     "metadata": {},
     "output_type": "execute_result"
    }
   ],
   "source": [
    "analysis_df_2[analysis_df_2['spaced_50%'] < analysis_df_2['smart_50%']].shape[0] / analysis_df_2.shape[0]"
   ]
  },
  {
   "cell_type": "code",
   "execution_count": 63,
   "metadata": {},
   "outputs": [
    {
     "data": {
      "text/plain": [
       "0.7777777777777778"
      ]
     },
     "execution_count": 63,
     "metadata": {},
     "output_type": "execute_result"
    }
   ],
   "source": [
    "analysis_df_2[(analysis_df_2['spaced_50%'] < analysis_df_2['smart_50%']) & analysis_df_2.spaced_smart_sig].shape[0] / analysis_df_2.shape[0]"
   ]
  },
  {
   "cell_type": "code",
   "execution_count": null,
   "metadata": {},
   "outputs": [],
   "source": []
  },
  {
   "cell_type": "code",
   "execution_count": null,
   "metadata": {},
   "outputs": [],
   "source": []
  },
  {
   "cell_type": "code",
   "execution_count": 70,
   "metadata": {},
   "outputs": [],
   "source": [
    "# Create figure and axes\n",
    "\n",
    "def label_diff(algo, X, Y_1, Y_2, W, repetitions, day):\n",
    "    for i in range(repetitions):\n",
    "        is_sig = analysis_df_2[(analysis_df_2.days == day)]['spaced_' + algo + '_sig'].values[i]\n",
    "        y = 1.1 * max(Y_1[i], Y_2[i])\n",
    "\n",
    "        props = {\n",
    "            'connectionstyle': 'bar',\n",
    "            'arrowstyle': '-',\n",
    "            'shrinkA': 0,\n",
    "            'shrinkB': 0,\n",
    "            'linewidth': 0.7,\n",
    "            'color': 'black'\n",
    "        }\n",
    "\n",
    "        if is_sig:\n",
    "            plt.gca().annotate(\"*\", xy=(X[i] - W / 2 - 0.02, y * 1.2), zorder=10, fontsize=15)\n",
    "        plt.gca().annotate('', xy=(X[i] - W, y), xytext=(X[i] + 0.25 * W, y), color='k',\n",
    "                           arrowprops=props)\n",
    "\n",
    "ALG_LABEL = {\n",
    "    'spaced': r'select',\n",
    "    'smart': 'difficulty',\n",
    "    'random': 'random'\n",
    "}\n",
    "\n",
    "def plot_day_perf(day):\n",
    "    clrs = sns.color_palette('Set2', n_colors=3)\n",
    "    df_plot = analysis_df_2[(analysis_df_2.days == day)]\n",
    "    for idx, alg in enumerate(['random', 'spaced', 'smart']):\n",
    "        yerr = np.vstack([\n",
    "            df_plot[f'{alg}_50%'] - df_plot[f'{alg}_25%'],\n",
    "            df_plot[f'{alg}_75%'] - df_plot[f'{alg}_50%']\n",
    "        ])\n",
    "        plt.errorbar(\n",
    "            x=df_plot['N'] - 1 - (idx - 1) * 0.2, \n",
    "            y=df_plot[f'{alg}_50%'], \n",
    "            yerr=yerr,\n",
    "            color=clrs[idx],\n",
    "            label=ALG_LABEL[alg],\n",
    "            fmt='x',\n",
    "            elinewidth=12,\n",
    "            alpha=0.2,\n",
    "        )\n",
    "        if alg == 'random':\n",
    "            label_diff(\n",
    "                algo=alg, \n",
    "                X=(df_plot['N'] - 1 - (idx - 1) * 0.2).values,\n",
    "                Y_1=df_plot[f'{alg}_75%'].values,\n",
    "                Y_2=df_plot[f'spaced_75%'].values,\n",
    "                W = 0.2,\n",
    "                repetitions=df_plot.shape[0],\n",
    "                day=day\n",
    "            )\n",
    "        elif alg == 'spaced':\n",
    "             label_diff(\n",
    "                algo='smart', \n",
    "                X=(df_plot['N'] - 1 - (idx - 1) * 0.2).values,\n",
    "                Y_1=df_plot[f'{alg}_75%'].values,\n",
    "                Y_2=df_plot[f'smart_75%'].values,\n",
    "                W = 0.2,\n",
    "                repetitions=df_plot.shape[0],\n",
    "                day=day\n",
    "            )\n",
    "        plt.scatter(\n",
    "            df_plot['N'] - 1 - (idx - 1) * 0.2,\n",
    "            df_plot[f'{alg}_50%'],\n",
    "            marker='x',\n",
    "            color=clrs[idx],\n",
    "            label=None\n",
    "        )\n",
    "    plt.yscale('log')\n",
    "    plt.xlabel('# reviews')\n",
    "    plt.ylabel('$\\hat{n}$' if not NORM_BY_INIT_N0 else r'$\\frac{\\hat{n}}{\\hat{n}_0}$')\n",
    "    plt.title(f'$T = {day} \\\\pm {round(pm_frac * day, 1)}$ days')\n",
    "    plt.legend(loc='lower left')\n",
    "    sns.despine()\n",
    "    plt.tight_layout()"
   ]
  },
  {
   "cell_type": "code",
   "execution_count": 71,
   "metadata": {},
   "outputs": [
    {
     "data": {
      "image/png": "[encoded data removed]",
      "text/plain": [
       "<Figure size 488.16x301.699 with 1 Axes>"
      ]
     },
     "metadata": {},
     "output_type": "display_data"
    }
   ],
   "source": [
    "fig = plt.figure(figsize=(2 * 3.39, (np.sqrt(5) - 1) * 3.39))\n",
    "plot_day_perf(3)"
   ]
  },
  {
   "cell_type": "code",
   "execution_count": 72,
   "metadata": {},
   "outputs": [
    {
     "data": {
      "image/png": "[encoded data removed]",
      "text/plain": [
       "<Figure size 488.16x301.699 with 1 Axes>"
      ]
     },
     "metadata": {},
     "output_type": "display_data"
    }
   ],
   "source": [
    "fig = plt.figure(figsize=(2 * 3.39, (np.sqrt(5) - 1) * 3.39))\n",
    "plot_day_perf(5)"
   ]
  },
  {
   "cell_type": "code",
   "execution_count": 73,
   "metadata": {},
   "outputs": [
    {
     "data": {
      "image/png": "[encoded data removed]",
      "text/plain": [
       "<Figure size 488.16x301.699 with 1 Axes>"
      ]
     },
     "metadata": {},
     "output_type": "display_data"
    }
   ],
   "source": [
    "fig = plt.figure(figsize=(2 * 3.39, (np.sqrt(5) - 1) * 3.39))\n",
    "plot_day_perf(9)"
   ]
  },
  {
   "cell_type": "code",
   "execution_count": null,
   "metadata": {},
   "outputs": [],
   "source": []
  },
  {
   "cell_type": "code",
   "execution_count": null,
   "metadata": {},
   "outputs": [],
   "source": []
  },
  {
   "cell_type": "code",
   "execution_count": null,
   "metadata": {},
   "outputs": [],
   "source": []
  },
  {
   "cell_type": "code",
   "execution_count": null,
   "metadata": {},
   "outputs": [],
   "source": []
  },
  {
   "cell_type": "code",
   "execution_count": null,
   "metadata": {},
   "outputs": [],
   "source": []
  },
  {
   "cell_type": "code",
   "execution_count": null,
   "metadata": {},
   "outputs": [],
   "source": []
  },
  {
   "cell_type": "code",
   "execution_count": null,
   "metadata": {},
   "outputs": [],
   "source": []
  },
  {
   "cell_type": "code",
   "execution_count": null,
   "metadata": {},
   "outputs": [],
   "source": []
  },
  {
   "cell_type": "code",
   "execution_count": null,
   "metadata": {},
   "outputs": [],
   "source": []
  },
  {
   "cell_type": "code",
   "execution_count": null,
   "metadata": {},
   "outputs": [],
   "source": []
  },
  {
   "cell_type": "code",
   "execution_count": null,
   "metadata": {},
   "outputs": [],
   "source": []
  },
  {
   "cell_type": "code",
   "execution_count": null,
   "metadata": {},
   "outputs": [],
   "source": []
  },
  {
   "cell_type": "code",
   "execution_count": null,
   "metadata": {},
   "outputs": [],
   "source": []
  },
  {
   "cell_type": "code",
   "execution_count": null,
   "metadata": {},
   "outputs": [],
   "source": []
  },
  {
   "cell_type": "code",
   "execution_count": null,
   "metadata": {},
   "outputs": [],
   "source": []
  },
  {
   "cell_type": "code",
   "execution_count": null,
   "metadata": {},
   "outputs": [],
   "source": []
  },
  {
   "cell_type": "code",
   "execution_count": null,
   "metadata": {},
   "outputs": [],
   "source": []
  },
  {
   "cell_type": "code",
   "execution_count": null,
   "metadata": {},
   "outputs": [],
   "source": []
  },
  {
   "cell_type": "code",
   "execution_count": null,
   "metadata": {},
   "outputs": [],
   "source": []
  },
  {
   "cell_type": "code",
   "execution_count": null,
   "metadata": {},
   "outputs": [],
   "source": []
  }
 ],
 "metadata": {
  "kernelspec": {
   "display_name": "Python 3",
   "language": "python",
   "name": "python3"
  },
  "language_info": {
   "codemirror_mode": {
    "name": "ipython",
    "version": 3
   },
   "file_extension": ".py",
   "mimetype": "text/x-python",
   "name": "python",
   "nbconvert_exporter": "python",
   "pygments_lexer": "ipython3",
   "version": "3.7.3"
  }
 },
 "nbformat": 4,
 "nbformat_minor": 2
}
